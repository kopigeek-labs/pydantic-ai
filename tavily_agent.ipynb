{
 "cells": [
  {
   "cell_type": "code",
   "execution_count": 5,
   "metadata": {},
   "outputs": [],
   "source": [
    "import os\n",
    "import asyncio\n",
    "from typing import Any\n",
    "from dataclasses import dataclass\n",
    "\n",
    "import nest_asyncio\n",
    "nest_asyncio.apply\n",
    "\n",
    "from openai import AsyncOpenAI\n",
    "from pydantic_ai.models.openai import OpenAIModel\n",
    "\n",
    "import streamlit as st\n",
    "from pydantic_ai import Agent, RunContext\n",
    "from pydantic import BaseModel, Field, ValidationError\n",
    "\n",
    "from dotenv import load_dotenv\n",
    "_ = load_dotenv()\n"
   ]
  },
  {
   "cell_type": "code",
   "execution_count": 6,
   "metadata": {},
   "outputs": [],
   "source": [
    "Client = AsyncOpenAI(\n",
    "    base_url= \"http://localhost:11434/v1\",\n",
    "    api_key=\"not needed\"\n",
    ")\n",
    "\n",
    "model = OpenAIModel('llama3.1 8b', openai_client=Client)"
   ]
  },
  {
   "cell_type": "code",
   "execution_count": 7,
   "metadata": {},
   "outputs": [],
   "source": [
    "TAVILIY_API_KEY = os.getenv(\"TAVILY_API_KEY\")\n",
    "\n",
    "if not TAVILIY_API_KEY:\n",
    "    raise ValueError(\"TAVILIY_API_KEY must be set in the environment variables.\")"
   ]
  },
  {
   "cell_type": "code",
   "execution_count": 8,
   "metadata": {},
   "outputs": [],
   "source": [
    "# Regular python dataclass, lacks some additional features only available in pydantic basemodel\n",
    "@dataclass\n",
    "class SearchDataclass:\n",
    "    max_results: int\n",
    "    todays_date: str\n",
    "\n",
    "@dataclass\n",
    "class ResearchDepedencies:\n",
    "    todays_date: str\n",
    "\n",
    "# This is a pydantic basemodel\n",
    "class ResearchResult(BaseModel):\n",
    "    research_title: str = Field(description='Markdown title header of the report')\n",
    "    research_main: str = Field(description='Main body section of the report')\n",
    "    research_bullets: str = Field(description='Set of bullet points summarising keypoints')"
   ]
  },
  {
   "cell_type": "code",
   "execution_count": 15,
   "metadata": {},
   "outputs": [],
   "source": [
    "# Create the Agent\n",
    "search_agent = Agent(\n",
    "    model,\n",
    "    result_type=ResearchResult,  # result is usually a pydantic basemodel\n",
    "    deps_type = ResearchDepedencies,\n",
    "    system_prompt=  'You are a helpful research assistant, and expert in research. '\n",
    "                    'When given a query, you will identify good keywords to do 3-5 searches using the provided search tool'\n",
    "                    'Then combine the results into a detailed response.'   # static system prompt\n",
    ")\n",
    "\n",
    "# Agent -- Dynamic System Prompt (used at run time)\n",
    "# Dynamic system prompts: depends on context that isn't known until runtime, \n",
    "# defined via functions decorated with @agent.system_prompt\n",
    "@search_agent.system_prompt\n",
    "async def add_current_date(ctx: RunContext[ResearchDepedencies]) -> str:\n",
    "    todays_date = ctx.deps.todays_date\n",
    "    system_prompt = (\n",
    "        f\"You're a helpful research assistant and an expert in research. \"\n",
    "        f\"When given a question, write strong keywords to do 3-5 searches in total \"\n",
    "        f\"(each with a query_number) and then combine the results. \"\n",
    "        f\"If you need today's date it is {todays_date}. \"\n",
    "        f\"Focus on providing accurate and current information.\"\n",
    "    )\n",
    "    return system_prompt\n",
    "\n",
    "# Agent -- Tool\n",
    "@search_agent.tool\n",
    "async def get_search(ctx: RunContext[SearchDataclass], query:str, query_number:int) -> dict[str,Any]:\n",
    "    \"\"\"Get the search for a keyword query.\n",
    "    Args:\n",
    "        query: keywords to search.\n",
    "    \"\"\"\n",
    "    max_results = ctx.deps.max_results\n",
    "    results = await tavily_client.get_search_context(query=query, max_results=max_results)\n",
    "    return results"
   ]
  },
  {
   "cell_type": "code",
   "execution_count": null,
   "metadata": {},
   "outputs": [],
   "source": [
    "st.set_page_config(page_title=\"AI Researcher\", layout=\"centered\")\n",
    "st.title(\"LLM News Researcher\")\n",
    "st.write(\"stay updated on the latest trends\")\n",
    "\n",
    "# User input section\n",
    "st.sidebar.title(\"Seach Query\")\n",
    "query = st.sidebar.text_input(\"Enter your query:\", value=\"example text here\")\n",
    "max_result = st.sidebar.slider(\"Number of searches: \", min_value=3, max_value=8, values=3)\n",
    "\n",
    "st.write(\"Use the slide bard to adjust search parameters\")\n",
    "if st.button(\"Get latest news!\"):\n",
    "    with st.spinner(\"AI is thinking, please wait ...\"):\n",
    "        result_data = asyncio.run(do_search(query,max_result))\n",
    "    \n",
    "    st.markdown(result_data.resarch_title)\n",
    "    st.markdown(f\"<div style='line-height:1.6;'>{result_data.research_main}</div>\", unsafe_allow_html=True)"
   ]
  }
 ],
 "metadata": {
  "kernelspec": {
   "display_name": ".venv",
   "language": "python",
   "name": "python3"
  },
  "language_info": {
   "codemirror_mode": {
    "name": "ipython",
    "version": 3
   },
   "file_extension": ".py",
   "mimetype": "text/x-python",
   "name": "python",
   "nbconvert_exporter": "python",
   "pygments_lexer": "ipython3",
   "version": "3.11.11"
  }
 },
 "nbformat": 4,
 "nbformat_minor": 2
}
