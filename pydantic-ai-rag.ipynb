{
 "cells": [
  {
   "cell_type": "code",
   "execution_count": 2,
   "metadata": {},
   "outputs": [],
   "source": [
    "import os\n",
    "import asyncio\n",
    "from typing import Any\n",
    "from dataclasses import dataclass\n",
    "\n",
    "import nest_asyncio\n",
    "nest_asyncio.apply\n",
    "\n",
    "from openai import AsyncOpenAI\n",
    "from pydantic_ai.models.openai import OpenAIModel\n",
    "\n",
    "import streamlit as st\n",
    "from pydantic_ai import Agent, RunContext\n",
    "from pydantic import BaseModel, Field, ValidationError\n",
    "\n",
    "from dotenv import load_dotenv\n",
    "_ = load_dotenv()\n"
   ]
  },
  {
   "cell_type": "code",
   "execution_count": 11,
   "metadata": {},
   "outputs": [],
   "source": [
    "Client = AsyncOpenAI(\n",
    "    base_url= \"http://localhost:11434/v1\",\n",
    "    api_key=\"not needed\"\n",
    ")\n",
    "\n",
    "model = OpenAIModel('llama3.1 8b', openai_client=Client)"
   ]
  },
  {
   "cell_type": "code",
   "execution_count": 12,
   "metadata": {},
   "outputs": [],
   "source": [
    "TAVILIY_API_KEY = os.getenv(\"TAVILY_API_KEY\")\n",
    "\n",
    "if not TAVILIY_API_KEY:\n",
    "    raise ValueError(\"TAVILIY_API_KEY must be set in the environment variables.\")\n",
    "\n",
    "@dataclass\n",
    "class SearchDataclass:\n",
    "    max_results: int\n",
    "    todays_date: str\n",
    "\n",
    "@dataclass\n",
    "class ResearchDepedencies:\n",
    "    todays_date: str\n",
    "\n",
    "class ResearchResult(BaseModel):\n",
    "    research_title: str = Field(description='Markdown title header of the report')\n",
    "    research_main: str = Field(description='Main body section of the report')\n",
    "    research_bullets: str = Field(description='Set of bullet points summarising keypoints')"
   ]
  },
  {
   "cell_type": "code",
   "execution_count": 15,
   "metadata": {},
   "outputs": [],
   "source": [
    "# Create the Agent\n",
    "search_agent = Agent(\n",
    "    model,\n",
    "    result_type=ResearchResult,\n",
    "    deps_type = ResearchDepedencies,\n",
    "    system_prompt=  'You are a helpful research assistant, and expert in research. '\n",
    "                    'When given a query, you will identify good keywords to do 3-5 searches using the provided search tool'\n",
    "                    'Then combine the results into a detailed response.'\n",
    ")\n",
    "\n",
    "@search_agent.system_prompt\n",
    "async def add_current_date(ctx: RunContext[ResearchDepedencies]) -> str:\n",
    "    todays_date = ctx.deps.todays_date\n",
    "    system_prompt = (\n",
    "        f\"You're a helpful research assistant and an expert in research. \"\n",
    "        f\"When given a question, write strong keywords to do 3-5 searches in total \"\n",
    "        f\"(each with a query_number) and then combine the results. \"\n",
    "        f\"If you need today's date it is {todays_date}. \"\n",
    "        f\"Focus on providing accurate and current information.\"\n",
    "    )\n",
    "    return system_prompt\n",
    "\n",
    "@search_agent.tool\n",
    "async def get_search(search_data: RunContext[SearchDataclass], query:str, query_number:int) -> dict[str,Any]:\n",
    "    \"\"\"Get the search for a keyword query.\n",
    "\n",
    "    Args:\n",
    "        query: keywords to search.\n",
    "    \"\"\"\n",
    "    max_results = search_data.deps.max_results\n",
    "    results = await tavily_client.get_search_context(query=query, max_results=max_results)\n",
    "    return results"
   ]
  },
  {
   "cell_type": "code",
   "execution_count": 16,
   "metadata": {},
   "outputs": [
    {
     "name": "stderr",
     "output_type": "stream",
     "text": [
      "2024-12-13 15:45:33.762 Thread 'MainThread': missing ScriptRunContext! This warning can be ignored when running in bare mode.\n",
      "2024-12-13 15:45:33.763 Thread 'MainThread': missing ScriptRunContext! This warning can be ignored when running in bare mode.\n",
      "2024-12-13 15:45:33.763 Thread 'MainThread': missing ScriptRunContext! This warning can be ignored when running in bare mode.\n",
      "2024-12-13 15:45:33.764 Thread 'MainThread': missing ScriptRunContext! This warning can be ignored when running in bare mode.\n",
      "2024-12-13 15:45:33.765 Thread 'MainThread': missing ScriptRunContext! This warning can be ignored when running in bare mode.\n",
      "2024-12-13 15:45:33.766 Thread 'MainThread': missing ScriptRunContext! This warning can be ignored when running in bare mode.\n",
      "2024-12-13 15:45:33.767 Thread 'MainThread': missing ScriptRunContext! This warning can be ignored when running in bare mode.\n",
      "2024-12-13 15:45:33.770 Thread 'MainThread': missing ScriptRunContext! This warning can be ignored when running in bare mode.\n",
      "2024-12-13 15:45:33.772 Thread 'MainThread': missing ScriptRunContext! This warning can be ignored when running in bare mode.\n",
      "2024-12-13 15:45:33.774 Thread 'MainThread': missing ScriptRunContext! This warning can be ignored when running in bare mode.\n",
      "2024-12-13 15:45:33.775 Thread 'MainThread': missing ScriptRunContext! This warning can be ignored when running in bare mode.\n",
      "2024-12-13 15:45:33.776 Thread 'MainThread': missing ScriptRunContext! This warning can be ignored when running in bare mode.\n",
      "2024-12-13 15:45:33.777 Thread 'MainThread': missing ScriptRunContext! This warning can be ignored when running in bare mode.\n",
      "2024-12-13 15:45:33.777 Thread 'MainThread': missing ScriptRunContext! This warning can be ignored when running in bare mode.\n",
      "2024-12-13 15:45:33.777 Thread 'MainThread': missing ScriptRunContext! This warning can be ignored when running in bare mode.\n"
     ]
    },
    {
     "ename": "TypeError",
     "evalue": "SliderMixin.slider() got an unexpected keyword argument 'values'",
     "output_type": "error",
     "traceback": [
      "\u001b[0;31m---------------------------------------------------------------------------\u001b[0m",
      "\u001b[0;31mTypeError\u001b[0m                                 Traceback (most recent call last)",
      "Cell \u001b[0;32mIn[16], line 8\u001b[0m\n\u001b[1;32m      6\u001b[0m st\u001b[38;5;241m.\u001b[39msidebar\u001b[38;5;241m.\u001b[39mtitle(\u001b[38;5;124m\"\u001b[39m\u001b[38;5;124mSeach Query\u001b[39m\u001b[38;5;124m\"\u001b[39m)\n\u001b[1;32m      7\u001b[0m query \u001b[38;5;241m=\u001b[39m st\u001b[38;5;241m.\u001b[39msidebar\u001b[38;5;241m.\u001b[39mtext_input(\u001b[38;5;124m\"\u001b[39m\u001b[38;5;124mEnter your query:\u001b[39m\u001b[38;5;124m\"\u001b[39m, value\u001b[38;5;241m=\u001b[39m\u001b[38;5;124m\"\u001b[39m\u001b[38;5;124mexample text here\u001b[39m\u001b[38;5;124m\"\u001b[39m)\n\u001b[0;32m----> 8\u001b[0m max_result \u001b[38;5;241m=\u001b[39m \u001b[43mst\u001b[49m\u001b[38;5;241;43m.\u001b[39;49m\u001b[43msidebar\u001b[49m\u001b[38;5;241;43m.\u001b[39;49m\u001b[43mslider\u001b[49m\u001b[43m(\u001b[49m\u001b[38;5;124;43m\"\u001b[39;49m\u001b[38;5;124;43mNumber of searches: \u001b[39;49m\u001b[38;5;124;43m\"\u001b[39;49m\u001b[43m,\u001b[49m\u001b[43m \u001b[49m\u001b[43mmin_value\u001b[49m\u001b[38;5;241;43m=\u001b[39;49m\u001b[38;5;241;43m3\u001b[39;49m\u001b[43m,\u001b[49m\u001b[43m \u001b[49m\u001b[43mmax_value\u001b[49m\u001b[38;5;241;43m=\u001b[39;49m\u001b[38;5;241;43m8\u001b[39;49m\u001b[43m,\u001b[49m\u001b[43m \u001b[49m\u001b[43mvalues\u001b[49m\u001b[38;5;241;43m=\u001b[39;49m\u001b[38;5;241;43m3\u001b[39;49m\u001b[43m)\u001b[49m\n\u001b[1;32m     10\u001b[0m st\u001b[38;5;241m.\u001b[39mwrite(\u001b[38;5;124m\"\u001b[39m\u001b[38;5;124mUse the slide bard to adjust search parameters\u001b[39m\u001b[38;5;124m\"\u001b[39m)\n\u001b[1;32m     11\u001b[0m \u001b[38;5;28;01mif\u001b[39;00m st\u001b[38;5;241m.\u001b[39mbutton(\u001b[38;5;124m\"\u001b[39m\u001b[38;5;124mGet latest news!\u001b[39m\u001b[38;5;124m\"\u001b[39m):\n",
      "File \u001b[0;32m~/ml-dev/pydantic-ai/.venv/lib/python3.11/site-packages/streamlit/runtime/metrics_util.py:409\u001b[0m, in \u001b[0;36mgather_metrics.<locals>.wrapped_func\u001b[0;34m(*args, **kwargs)\u001b[0m\n\u001b[1;32m    407\u001b[0m         _LOGGER\u001b[38;5;241m.\u001b[39mdebug(\u001b[38;5;124m\"\u001b[39m\u001b[38;5;124mFailed to collect command telemetry\u001b[39m\u001b[38;5;124m\"\u001b[39m, exc_info\u001b[38;5;241m=\u001b[39mex)\n\u001b[1;32m    408\u001b[0m \u001b[38;5;28;01mtry\u001b[39;00m:\n\u001b[0;32m--> 409\u001b[0m     result \u001b[38;5;241m=\u001b[39m \u001b[43mnon_optional_func\u001b[49m\u001b[43m(\u001b[49m\u001b[38;5;241;43m*\u001b[39;49m\u001b[43margs\u001b[49m\u001b[43m,\u001b[49m\u001b[43m \u001b[49m\u001b[38;5;241;43m*\u001b[39;49m\u001b[38;5;241;43m*\u001b[39;49m\u001b[43mkwargs\u001b[49m\u001b[43m)\u001b[49m\n\u001b[1;32m    410\u001b[0m \u001b[38;5;28;01mexcept\u001b[39;00m RerunException \u001b[38;5;28;01mas\u001b[39;00m ex:\n\u001b[1;32m    411\u001b[0m     \u001b[38;5;66;03m# Duplicated from below, because static analysis tools get confused\u001b[39;00m\n\u001b[1;32m    412\u001b[0m     \u001b[38;5;66;03m# by deferring the rethrow.\u001b[39;00m\n\u001b[1;32m    413\u001b[0m     \u001b[38;5;28;01mif\u001b[39;00m tracking_activated \u001b[38;5;129;01mand\u001b[39;00m command_telemetry:\n",
      "\u001b[0;31mTypeError\u001b[0m: SliderMixin.slider() got an unexpected keyword argument 'values'"
     ]
    }
   ],
   "source": [
    "st.set_page_config(page_title=\"AI Researcher\", layout=\"centered\")\n",
    "st.title(\"LLM News Researcher\")\n",
    "st.write(\"stay updated on the latest trends\")\n",
    "\n",
    "# User input section\n",
    "st.sidebar.title(\"Seach Query\")\n",
    "query = st.sidebar.text_input(\"Enter your query:\", value=\"example text here\")\n",
    "max_result = st.sidebar.slider(\"Number of searches: \", min_value=3, max_value=8, values=3)\n",
    "\n",
    "st.write(\"Use the slide bard to adjust search parameters\")\n",
    "if st.button(\"Get latest news!\"):\n",
    "    with st.spinner(\"AI is thinking, please wait ...\"):\n",
    "        result_data = asyncio.run(do_search(query,max_result))\n",
    "    \n",
    "    st.markdown(result_data.resarch_title)\n",
    "    st.markdown(f\"<div style='line-height:1.6;'>{result_data.research_main}</div>\", unsafe_allow_html=True)"
   ]
  },
  {
   "cell_type": "code",
   "execution_count": null,
   "metadata": {},
   "outputs": [],
   "source": []
  }
 ],
 "metadata": {
  "kernelspec": {
   "display_name": ".venv",
   "language": "python",
   "name": "python3"
  },
  "language_info": {
   "codemirror_mode": {
    "name": "ipython",
    "version": 3
   },
   "file_extension": ".py",
   "mimetype": "text/x-python",
   "name": "python",
   "nbconvert_exporter": "python",
   "pygments_lexer": "ipython3",
   "version": "3.11.10"
  }
 },
 "nbformat": 4,
 "nbformat_minor": 2
}
