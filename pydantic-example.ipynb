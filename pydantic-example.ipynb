{
 "cells": [
  {
   "cell_type": "markdown",
   "metadata": {},
   "source": [
    "### Pydantic\n",
    "Data validation framework, provides IDE type hints, and JSON serialization"
   ]
  },
  {
   "cell_type": "code",
   "execution_count": 27,
   "metadata": {},
   "outputs": [],
   "source": [
    "from pydantic import BaseModel, EmailStr, field_validator"
   ]
  },
  {
   "cell_type": "code",
   "execution_count": 33,
   "metadata": {},
   "outputs": [],
   "source": [
    "class User(BaseModel):\n",
    "    name: str\n",
    "    email: EmailStr\n",
    "    account_id: int\n",
    "\n",
    "    @field_validator(\"account_id\")\n",
    "    def validate_account_id(cls,value):\n",
    "        if value <= 0:\n",
    "            raise ValueError(f\"account_id must be positive: {value}\")\n",
    "        return value"
   ]
  },
  {
   "cell_type": "code",
   "execution_count": 34,
   "metadata": {},
   "outputs": [],
   "source": [
    "# Data Validation\n",
    "## Example 1 - we defined email as emai: EmailStr, so it will through validation error if not an email\n",
    "## Example 2 - Custom Validation - account ID needs to be positive value"
   ]
  },
  {
   "cell_type": "code",
   "execution_count": 36,
   "metadata": {},
   "outputs": [],
   "source": [
    "## Creating a user to a class gives you autocomplete hints\n",
    "user = User(\n",
    "    name=\"jack\",\n",
    "    email=\"jack@email.com\",\n",
    "    account_id=1234\n",
    ")"
   ]
  },
  {
   "cell_type": "code",
   "execution_count": 37,
   "metadata": {},
   "outputs": [
    {
     "name": "stdout",
     "output_type": "stream",
     "text": [
      "name='jack' email='jack@email.com' account_id=1234\n"
     ]
    }
   ],
   "source": [
    "print(user)"
   ]
  },
  {
   "cell_type": "code",
   "execution_count": 21,
   "metadata": {},
   "outputs": [],
   "source": [
    "## Can also create this by passing in a dict\n",
    "user_data = {\n",
    "    'name': 'Frost',\n",
    "    'email': 'frost@anotheremail.com',\n",
    "    'account_id': 54321\n",
    "}\n",
    "\n",
    "user2 = User(**user_data)"
   ]
  },
  {
   "cell_type": "code",
   "execution_count": 14,
   "metadata": {},
   "outputs": [
    {
     "name": "stdout",
     "output_type": "stream",
     "text": [
      "Frost\n",
      "frost@anotheremail.com\n",
      "54321\n"
     ]
    }
   ],
   "source": [
    "## Access object attributes easily\n",
    "print(user.name)\n",
    "print(user.email)\n",
    "print(user.account_id)"
   ]
  },
  {
   "cell_type": "markdown",
   "metadata": {},
   "source": [
    "### JSON Serialization"
   ]
  },
  {
   "cell_type": "code",
   "execution_count": 69,
   "metadata": {},
   "outputs": [
    {
     "name": "stdout",
     "output_type": "stream",
     "text": [
      "{\"name\":\"jack\",\"email\":\"jack@email.com\",\"account_id\":1234} \n",
      " the output is of type <class 'str'>\n",
      "\n",
      "{'name': 'jack', 'email': 'jack@email.com', 'account_id': 1234} \n",
      " the output is of type <class 'dict'>\n",
      "\n",
      "jack\n",
      "jack@email.com\n",
      "1234\n",
      "jack\n",
      "jack@email.com\n",
      "1234\n",
      "Key: name, Value: jack\n",
      "Key: email, Value: jack@email.com\n",
      "Key: account_id, Value: 1234\n"
     ]
    }
   ],
   "source": [
    "# Create a JSON string\n",
    "user_json_str = user.model_dump_json()\n",
    "print(f\"{user_json_str} \\n the output is of type {type(user_json_str)}\\n\")\n",
    "\n",
    "# Or Create a Python Dictionary\n",
    "user_json_obj = dict(user)\n",
    "print(f\"{user_json_obj} \\n the output is of type {type(user_json_obj)}\\n\")\n",
    "\n",
    "# We can loop through the object to get it's value\n",
    "for key in user_json_obj:\n",
    "    print(user_json_obj[key])\n",
    "\n",
    "for value in user_json_obj.values():\n",
    "    print(value)\n",
    "\n",
    "for key, value in user_json_obj.items(): # my_dict.items() returns key-value pairs. key, value in ... loop unpacks each pair.\n",
    "    print(f\"Key: {key}, Value: {value}\")"
   ]
  },
  {
   "cell_type": "code",
   "execution_count": null,
   "metadata": {},
   "outputs": [],
   "source": []
  }
 ],
 "metadata": {
  "kernelspec": {
   "display_name": ".venv",
   "language": "python",
   "name": "python3"
  },
  "language_info": {
   "codemirror_mode": {
    "name": "ipython",
    "version": 3
   },
   "file_extension": ".py",
   "mimetype": "text/x-python",
   "name": "python",
   "nbconvert_exporter": "python",
   "pygments_lexer": "ipython3",
   "version": "3.11.10"
  }
 },
 "nbformat": 4,
 "nbformat_minor": 2
}
