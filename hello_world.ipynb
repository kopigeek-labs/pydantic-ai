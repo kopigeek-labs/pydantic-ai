{
 "cells": [
  {
   "cell_type": "code",
   "execution_count": 6,
   "metadata": {},
   "outputs": [],
   "source": [
    "from pydantic_ai import Agent\n",
    "import nest_asyncio\n",
    "nest_asyncio.apply()"
   ]
  },
  {
   "cell_type": "code",
   "execution_count": null,
   "metadata": {},
   "outputs": [
    {
     "name": "stdout",
     "output_type": "stream",
     "text": [
      "The phrase \"hello, world\" originates from Brian Kernighan's 1972 tutorial \"A Tutorial Introduction to the Language B\".\n",
      "\n"
     ]
    }
   ],
   "source": [
    "# Simple Hello World Example with just a model\n",
    "agent = Agent(\n",
    "    'gemini-1.5-flash',\n",
    "    system_prompt='be concise, reply with only one setence',\n",
    ")\n",
    "\n",
    "result = agent.run_sync('Where does \"hello world\" come from?')\n",
    "print(result.data)"
   ]
  },
  {
   "cell_type": "code",
   "execution_count": null,
   "metadata": {},
   "outputs": [],
   "source": [
    "# Not very interesting yet, \n",
    "# but we can easily add \"tools\", dynamic system prompts, and structured responses to build more powerful agents.\n",
    "\n",
    "from dataclasses import dataclass\n",
    "\n",
    "from pydantic import BaseModel, Field\n",
    "from pydantic_ai import Agent, RunContext\n",
    "\n",
    "from bank_support import DatabaseConn  ## this is a fake db connection in bank_support.py\n"
   ]
  },
  {
   "cell_type": "code",
   "execution_count": null,
   "metadata": {},
   "outputs": [],
   "source": [
    "@dataclass\n",
    "class SupportDependencies:\n",
    "    customer_id: int\n",
    "    db: DatabaseConn\n",
    "\n",
    "class SupportResult(BaseModel):\n",
    "    support_advice: str = Field(description='Advice returned to the customer')\n",
    "    block_card: bool = Field(description=\"Where to block the customer's card\")\n",
    "    risk: int = Field(description='Risk level of the query', ge=0, le=10)\n",
    "\n",
    "### Create the Agent!\n",
    "support_agent = Agent(\n",
    "    'gemini-1.5-flash',\n",
    "    deps_type=SupportDependencies,  # the agent dependency required inputs\n",
    "    result_type=SupportResult,      # the structured output of the agent\n",
    "    system_prompt= (\n",
    "        'You are a support agent in our bank, give the customer support '\n",
    "        'and judge the risk level of their query.'\n",
    "    ),\n",
    ")\n",
    "\n",
    "# Add system prompt and tools available to the support_agent\n",
    "@support_agent.system_prompt\n",
    "async def add_customer_name(ctx: RunContext[SupportDependencies]) -> str:\n",
    "    customer_name = await ctx.deps.db.customer_name(id=ctx.deps.customer_id)"
   ]
  }
 ],
 "metadata": {
  "kernelspec": {
   "display_name": ".venv",
   "language": "python",
   "name": "python3"
  },
  "language_info": {
   "codemirror_mode": {
    "name": "ipython",
    "version": 3
   },
   "file_extension": ".py",
   "mimetype": "text/x-python",
   "name": "python",
   "nbconvert_exporter": "python",
   "pygments_lexer": "ipython3",
   "version": "3.11.10"
  }
 },
 "nbformat": 4,
 "nbformat_minor": 2
}
