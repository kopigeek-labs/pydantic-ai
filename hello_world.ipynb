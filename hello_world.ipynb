{
 "cells": [
  {
   "cell_type": "code",
   "execution_count": 1,
   "metadata": {},
   "outputs": [],
   "source": [
    "import os\n",
    "from dotenv import load_dotenv\n",
    "\n",
    "# Load environment variables from a .env file\n",
    "load_dotenv()\n",
    "\n",
    "# Retrieve API keys\n",
    "OPENAI_API_KEY = os.getenv(\"OPENAI_API_KEY\")\n",
    "GEMINI_API_KEY = os.getenv(\"GEMINI_API_KEY\")\n",
    "TAVILY_API_KEY = os.getenv(\"TAVILY_API_KEY\")"
   ]
  },
  {
   "cell_type": "code",
   "execution_count": null,
   "metadata": {},
   "outputs": [],
   "source": [
    "import json\n",
    "\n",
    "import nest_asyncio\n",
    "import asyncio\n",
    "import nest_asyncio #for jupyter notebook\n",
    "nest_asyncio.apply()"
   ]
  },
  {
   "cell_type": "code",
   "execution_count": 13,
   "metadata": {},
   "outputs": [
    {
     "name": "stdout",
     "output_type": "stream",
     "text": [
      "To track order #12345, please visit our website and enter your order number in the tracking section.\n",
      "\n",
      "[SystemPrompt(content='be concise, reply with only one setence', role='system'), UserPrompt(content='How can I track  my order #12345?', timestamp=datetime.datetime(2025, 2, 13, 1, 7, 55, 817132, tzinfo=datetime.timezone.utc), role='user'), ModelTextResponse(content='To track order #12345, please visit our website and enter your order number in the tracking section.\\n', timestamp=datetime.datetime(2025, 2, 13, 1, 7, 56, 362336, tzinfo=datetime.timezone.utc), role='model-text-response')]\n",
      "Cost(request_tokens=23, response_tokens=25, total_tokens=48, details=None)\n",
      "\n",
      "New Message:\n",
      "Your previous question was how to track order #12345.\n",
      "\n"
     ]
    }
   ],
   "source": [
    "from pydantic_ai import Agent\n",
    "from pydantic_ai.models.gemini import GeminiModel\n",
    "\n",
    "model = GeminiModel('gemini-1.5-flash')\n",
    "\n",
    "# ------------------------------------------------------------\n",
    "# Code Example 1: Simple Agent + System Prompt\n",
    "# ------------------------------------------------------------\n",
    "basic_agent = Agent(\n",
    "    model,\n",
    "    system_prompt='be concise, reply with only one setence',\n",
    ")\n",
    "\n",
    "# use run_sync if not within a Jupyter notebook\n",
    "response = await basic_agent.run('How can I track  my order #12345?')\n",
    "print(response.data)\n",
    "print(response.all_messages())\n",
    "print(response.cost())\n",
    "\n",
    "# continue chatting\n",
    "response2 = await basic_agent.run(\n",
    "    'What was my previous question?',\n",
    "    message_history=response.new_messages(),\n",
    "    )\n",
    "print(\"\\nNew Message:\")\n",
    "print(response2.data)\n"
   ]
  },
  {
   "cell_type": "code",
<<<<<<< HEAD
   "execution_count": 3,
=======
   "execution_count": 94,
>>>>>>> aaaefa9 (sync)
   "metadata": {},
   "outputs": [],
   "source": [
    "# Not very interesting yet, \n",
    "# but we can easily add \"tools\", dynamic system prompts, and structured responses to build more powerful agents.\n",
    "from dataclasses import dataclass\n",
    "\n",
    "from pydantic import BaseModel, Field\n",
    "from pydantic_ai.tools import RunContext, Tool, ModelRetry\n"
   ]
  },
  {
   "cell_type": "markdown",
   "metadata": {},
   "source": [
    "# Structured Output - JSON"
   ]
  },
  {
   "cell_type": "code",
   "execution_count": 25,
   "metadata": {},
   "outputs": [
    {
     "name": "stdout",
     "output_type": "stream",
     "text": [
      "{\n",
      "  \"response\": \"I understand your frustration.  To process your refund for order #45678, I'll need to collect some information from you.  Could you please provide me with your email address associated with the order?\",\n",
      "  \"needs_escalation\": false,\n",
      "  \"follow_up_required\": true,\n",
      "  \"sentiment\": \"negative\"\n",
      "}\n"
     ]
    }
   ],
   "source": [
    "# ------------------------------------------------------------\n",
    "# Code Example 3: Structured, Type-Safe Response\n",
    "#   - Pydantic Models to define response structure\n",
    "#   - Type validation and safety\n",
    "#   - Field descriptions for better model understanding\n",
    "# ------------------------------------------------------------\n",
    "\n",
    "class ResponseModel(BaseModel):\n",
    "    \"\"\" Structured response with metadata \"\"\"\n",
    "    response: str\n",
    "    needs_escalation: bool\n",
    "    follow_up_required: bool\n",
    "    sentiment: str = Field(description=\"customer sentiment analysis\")\n",
    "\n",
    "sentiment_agent = Agent(\n",
    "    model=model,\n",
    "    result_type=ResponseModel,\n",
    "    system_prompt=(\n",
    "        \"You are an intelligent customer support agent.\"\n",
    "        \"Analyze queries carefully and provide structured responses.\"\n",
    "    )\n",
    ")\n",
    "\n",
    "response = \"\"\n",
    "response = await sentiment_agent.run(\"I'm so pissed, How can I make a refund on my order #45678?\")\n",
    "print(response.data.model_dump_json(indent=2))\n"
   ]
  },
  {
   "cell_type": "code",
   "execution_count": null,
   "metadata": {},
   "outputs": [
    {
     "name": "stdout",
     "output_type": "stream",
     "text": [
      "All Messages:\n",
      "[SystemPrompt(content='You are an intelligent customer support agent. Analyze queries carefully and provide structured responses. Always greet the customer (if they provide a name) and provide a helpful response', role='system'), SystemPrompt(content='Customer details: ## CUSTOMER_ID\\n555\\n\\n## NAME\\nMagnus Carlsen\\n\\n## EMAIL\\nmagnus@email.com\\n\\n## ORDERS\\n### ORDER_ID\\n1\\n\\n### STATUS\\nShipped\\n\\n### ITEMS\\n- Blue Jeans\\n- Matcha Tea Cup\\n\\n### ORDER_ID\\n2\\n\\n### STATUS\\nPending\\n\\n### ITEMS\\n- Snow Peak Tumbler\\n\\n\\n', role='system'), UserPrompt(content='What are my orders?', timestamp=datetime.datetime(2025, 2, 13, 3, 39, 30, 856941, tzinfo=datetime.timezone.utc), role='user'), ModelStructuredResponse(calls=[ToolCall(tool_name='final_result', args=ArgsDict(args_dict={'follow_up_required': False, 'response': 'Hello Magnus Carlsen,\\n\\nYou have two orders:\\n\\nOrder 1 (Shipped):\\n- Blue Jeans\\n- Matcha Tea Cup\\n\\nOrder 2 (Pending):\\n- Snow Peak Tumbler', 'needs_escalation': False, 'sentiment': 'positive'}), tool_id=None)], timestamp=datetime.datetime(2025, 2, 13, 3, 39, 31, 947041, tzinfo=datetime.timezone.utc), role='model-structured-response'), ToolReturn(tool_name='final_result', content='Final result processed.', tool_id=None, timestamp=datetime.datetime(2025, 2, 13, 3, 39, 31, 947602, tzinfo=datetime.timezone.utc), role='tool-return')]\n",
      "\n",
      " Raw Response Data:\n",
      "response='Hello Magnus Carlsen,\\n\\nYou have two orders:\\n\\nOrder 1 (Shipped):\\n- Blue Jeans\\n- Matcha Tea Cup\\n\\nOrder 2 (Pending):\\n- Snow Peak Tumbler' needs_escalation=False follow_up_required=False sentiment='positive'\n",
      "\n",
      " JSON Response Data:\n",
      "{\n",
      "  \"response\": \"Hello Magnus Carlsen,\\n\\nYou have two orders:\\n\\nOrder 1 (Shipped):\\n- Blue Jeans\\n- Matcha Tea Cup\\n\\nOrder 2 (Pending):\\n- Snow Peak Tumbler\",\n",
      "  \"needs_escalation\": false,\n",
      "  \"follow_up_required\": false,\n",
      "  \"sentiment\": \"positive\"\n",
      "}\n"
     ]
    }
   ],
   "source": [
    "# ------------------------------------------------------------\n",
    "# Code Example 3: Structured Response + Dependencies\n",
    "#   - Complex data model with pydantic\n",
    "#   - Inject run-time dependencies\n",
    "#   - Dynamic System Prompts\n",
    "# ------------------------------------------------------------\n",
    "\n",
    "from typing import List, Dict, Optional\n",
    "from markdown import to_markdown  \n",
    "\n",
    "\n",
    "# Define `Order` Schema\n",
    "class Order(BaseModel):\n",
    "    \"\"\" Structure for order details \"\"\"\n",
    "    order_id: int\n",
    "    status: str\n",
    "    items: List[str]\n",
    "\n",
    "# Define `Customer` Schema\n",
    "class CustomerDetails(BaseModel):\n",
    "    \"\"\" Structure for customer details \"\"\"\n",
    "    customer_id: int\n",
    "    name: str\n",
    "    email: str\n",
    "    orders: Optional[List[Order]] = None\n",
    "\n",
    "# Specify a customer (dummy data)\n",
    "customer = CustomerDetails(\n",
    "    customer_id=555,\n",
    "    name=\"Magnus Carlsen\",\n",
    "    email=\"magnus@email.com\",\n",
    "    orders=[\n",
    "        Order(order_id=1, status=\"Shipped\", items=[\"Blue Jeans\", \"Matcha Tea Cup\"]),\n",
    "        Order(order_id=2, status=\"Pending\", items=[\"Snow Peak Tumbler\"])\n",
    "    ],\n",
    ")\n",
    "\n",
    "customer_koel = CustomerDetails(\n",
    "    customer_id=111,\n",
    "    name=\"Koel Beh\",\n",
    "    email=\"koel@email.com\",\n",
    "    orders=[\n",
    "    ],\n",
    ")\n",
    "\n",
    "# Agent with dependencies + structured output\n",
    "customer_agent = Agent(\n",
    "    model=model,\n",
    "    result_type=ResponseModel,\n",
    "    deps_type=CustomerDetails,\n",
    "    retries=3,\n",
    "    system_prompt=(\n",
    "        \"You are an intelligent customer support agent. \"\n",
    "        \"Analyze queries carefully and provide structured responses. \"\n",
    "        \"Always greet the customer (if they provide a name) and provide a helpful response\"\n",
    "    )\n",
    ")\n",
    "\n",
    "# Add dynamic system prompt based on the dependencies\n",
    "@customer_agent.system_prompt\n",
    "async def add_customer_details(ctx: RunContext[CustomerDetails]) -> str:\n",
    "    return f\"Customer details: {to_markdown(ctx.deps)}\"\n",
    "\n",
    "response = \"\"\n",
    "response = await customer_agent.run(\n",
    "    user_prompt=\"What are my orders?\",\n",
    "    deps=customer,\n",
    ")\n",
    "\n",
    "print(\"All Messages:\")\n",
    "print(response.all_messages())\n",
    "print(\"\\n Raw Response Data:\")\n",
    "print(response.data)\n",
    "print(\"\\n JSON Response Data:\")\n",
    "print(response.data.model_dump_json(indent=2))\n",
    "\n",
    "\n"
   ]
  },
  {
   "cell_type": "code",
   "execution_count": null,
   "metadata": {},
   "outputs": [
    {
     "name": "stdout",
     "output_type": "stream",
     "text": [
      "Customer Details: \n",
      "Name: Magnus Carlsen\n",
      "Email: magnus@email.com\n",
      "\n",
      "Response Details: \n",
      "Hello Magnus Carlsen! You have two orders:\n",
      "\n",
      "Order 1 (Shipped):\n",
      "- Blue Jeans\n",
      "- Matcha Tea Cup\n",
      "\n",
      "Order 2 (Pending):\n",
      "- Snow Peak Tumbler\n",
      "\n",
      "Status:\n",
      "Follow up?: False\n",
      "Needs Escalation?: False\n"
     ]
    }
   ],
   "source": [
    "# Pretty Print\n",
    "print(\n",
    "    \"Customer Details: \\n\"\n",
    "    f\"Name: {customer.name}\\n\"\n",
    "    f\"Email: {customer.email}\\n\"\n",
    "    \"\\nResponse Details: \\n\"\n",
    "    f\"{response.data.response}\\n\"\n",
    "    \"\\nStatus:\\n\"\n",
    "    f\"Follow up?: {response.data.follow_up_required}\\n\"\n",
    "    f\"Needs Escalation?: {response.data.needs_escalation}\\n\"\n",
    ")"
   ]
  },
  {
   "cell_type": "code",
   "execution_count": 93,
   "metadata": {},
   "outputs": [
    {
     "name": "stdout",
     "output_type": "stream",
     "text": [
      "[SystemPrompt(content='You are an intelligent customer support agent. Analyze queries carefully and provide structured responses. Use tools to look up relevant information. Always greet the customer (if they provide a name) and provide a helpful response', role='system'), SystemPrompt(content='Customer details: ## CUSTOMER_ID\\n555\\n\\n## NAME\\nMagnus Carlsen\\n\\n## EMAIL\\nmagnus@email.com\\n\\n## ORDERS\\n### ORDER_ID\\n1\\n\\n### STATUS\\nShipped\\n\\n### ITEMS\\n- Blue Jeans\\n- Matcha Tea Cup\\n\\n### ORDER_ID\\n2\\n\\n### STATUS\\nPending\\n\\n### ITEMS\\n- Snow Peak Tumbler\\n\\n\\n', role='system'), UserPrompt(content='Whats the status of my order?', timestamp=datetime.datetime(2025, 2, 13, 3, 53, 23, 215414, tzinfo=datetime.timezone.utc), role='user'), ModelStructuredResponse(calls=[ToolCall(tool_name='get_shipping_info', args=ArgsDict(args_dict={}), tool_id=None)], timestamp=datetime.datetime(2025, 2, 13, 3, 53, 24, 894617, tzinfo=datetime.timezone.utc), role='model-structured-response'), ToolReturn(tool_name='get_shipping_info', content='Shipped on 2025-01-13', tool_id=None, timestamp=datetime.datetime(2025, 2, 13, 3, 53, 24, 895497, tzinfo=datetime.timezone.utc), role='tool-return'), ModelStructuredResponse(calls=[ToolCall(tool_name='final_result', args=ArgsDict(args_dict={'needs_escalation': False, 'sentiment': 'positive', 'follow_up_required': False, 'response': 'Your order with ID 1 has shipped.  Order 2 is pending.'}), tool_id=None)], timestamp=datetime.datetime(2025, 2, 13, 3, 53, 25, 717040, tzinfo=datetime.timezone.utc), role='model-structured-response'), ToolReturn(tool_name='final_result', content='Final result processed.', tool_id=None, timestamp=datetime.datetime(2025, 2, 13, 3, 53, 25, 718475, tzinfo=datetime.timezone.utc), role='tool-return')]\n",
      "{\n",
      "  \"response\": \"Your order with ID 1 has shipped.  Order 2 is pending.\",\n",
      "  \"needs_escalation\": false,\n",
      "  \"follow_up_required\": false,\n",
      "  \"sentiment\": \"positive\"\n",
      "}\n"
     ]
    }
   ],
   "source": [
    "# ------------------------------------------------------------\n",
    "# Code Example 4: Agent with Tools\n",
    "#   - Creating and registering tools\n",
    "#   - Accessing context in tools\n",
    "# ------------------------------------------------------------\n",
    "\n",
    "agent_system_prompt = (       \n",
    "    \"You are an intelligent customer support agent. \"\n",
    "    \"Analyze queries carefully and provide structured responses. \"\n",
    "    \"Use tools to look up relevant information. \"\n",
    "    \"Always greet the customer (if they provide a name) and provide a helpful response\"\n",
    ")\n",
    "\n",
    "shipping_info_db: Dict[str,str] = {\n",
    "    \"1\": \"Shipped on 2025-01-13\",\n",
    "    \"2\": \"Being packed at the logistics center\",\n",
    "}\n",
    "\n",
    "# Define a tool\n",
    "def get_shipping_info(ctx: RunContext[CustomerDetails]) -> str:\n",
    "    \"\"\" Get the customer's shipping information.\"\"\"\n",
    "    if not ctx.deps.orders:\n",
    "        return \"No orders found for this customer\"\n",
    "    \n",
    "    order_id = str(ctx.deps.orders[0].order_id)\n",
    "    return shipping_info_db.get(order_id, \"Shipping information not found\")\n",
    "\n",
    "# Add tools to the agent\n",
    "ship_agent = Agent(\n",
    "    model=model,\n",
    "    deps_type=CustomerDetails,\n",
    "    result_type=ResponseModel,\n",
    "    retries=3,\n",
    "    system_prompt=agent_system_prompt,\n",
    "    tools=[\n",
    "        Tool(get_shipping_info, takes_ctx=True)\n",
    "    ],\n",
    ")\n",
    "\n",
    "# You can also register a tool that doesnt require context using tool_plain decorator\n",
    "import random\n",
    "@ship_agent.tool_plain\n",
    "def roll_die() -> int:\n",
    "    \"\"\" Roll a die and return the result.\"\"\"\n",
    "    return random.randint(1,6)\n",
    "\n",
    "# Initialize the agent\n",
    "@ship_agent.system_prompt\n",
    "async def add_customer_details(ctx: RunContext[CustomerDetails]) -> str:\n",
    "    \"\"\" Add the customer's details to the system prompt.\"\"\"\n",
    "    return f\"Customer details: {to_markdown(ctx.deps)}\"\n",
    "\n",
    "response=\"\"\n",
    "response = await ship_agent.run(\n",
    "    user_prompt=\"Whats the status of my order?\",\n",
    "    deps=customer,\n",
    "    )\n",
    "\n",
    "print(response.all_messages())\n",
    "print(response.data.model_dump_json(indent=2))"
   ]
  },
  {
   "cell_type": "code",
   "execution_count": null,
   "metadata": {},
   "outputs": [
    {
     "name": "stdout",
     "output_type": "stream",
     "text": [
      "All Messages:\n",
      "[SystemPrompt(content='You are an intelligent customer support agent. Analyze queries carefully and provide structured responses. Use tools to look up relevant information. Always greet the customer (if they provide a name) and provide a helpful response', role='system'), UserPrompt(content='what is the status of order 12345', timestamp=datetime.datetime(2025, 2, 13, 6, 54, 0, 212039, tzinfo=datetime.timezone.utc), role='user'), ModelStructuredResponse(calls=[ToolCall(tool_name='get_shipping_status', args=ArgsDict(args_dict={'order_id': '12345'}), tool_id=None)], timestamp=datetime.datetime(2025, 2, 13, 6, 54, 0, 951530, tzinfo=datetime.timezone.utc), role='model-structured-response'), RetryPrompt(content='No shipping information found for order ID 12345.make sure the order ID starts with a #: e.g. #12345.Self correct this if needed and try again', tool_name='get_shipping_status', tool_id=None, timestamp=datetime.datetime(2025, 2, 13, 6, 54, 0, 952883, tzinfo=datetime.timezone.utc), role='retry-prompt'), ModelStructuredResponse(calls=[ToolCall(tool_name='final_result', args=ArgsDict(args_dict={'needs_escalation': False, 'sentiment': 'neutral', 'response': \"I'm sorry, I couldn't find your order. Please double-check the order ID and try again. If the issue persists, please contact customer support.\", 'follow_up_required': True}), tool_id=None)], timestamp=datetime.datetime(2025, 2, 13, 6, 54, 1, 935404, tzinfo=datetime.timezone.utc), role='model-structured-response'), ToolReturn(tool_name='final_result', content='Final result processed.', tool_id=None, timestamp=datetime.datetime(2025, 2, 13, 6, 54, 1, 936636, tzinfo=datetime.timezone.utc), role='tool-return')]\n",
      "\n",
      " Response Data:\n",
      "{\n",
      "  \"response\": \"I'm sorry, I couldn't find your order. Please double-check the order ID and try again. If the issue persists, please contact customer support.\",\n",
      "  \"needs_escalation\": false,\n",
      "  \"follow_up_required\": true,\n",
      "  \"sentiment\": \"neutral\"\n",
      "}\n"
     ]
    }
   ],
   "source": [
    "# ------------------------------------------------------------\n",
    "# Code Example 5: Agent with Tools, with self-correction and reflection\n",
    "#   - Implement self-reflection\n",
    "#   - Handling errors gracefully with retries using ModelRetry\n",
    "#   - Dectorator based tool registration\n",
    "# ------------------------------------------------------------\n",
    "\n",
    "shipping_info_db: Dict[str, str] = {\n",
    "    \"#12345\": \"Delivered on 2024-12-12\",\n",
    "    \"#67890\": \"being delivered by a pigeon\",\n",
    "}\n",
    "\n",
    "reflection_agent = Agent(\n",
    "    model=model,\n",
    "    result_type=ResponseModel,\n",
    "    deps_type=CustomerDetails,\n",
    "    retries=3,\n",
    "    system_prompt=agent_system_prompt,\n",
    "\n",
    ")\n",
    "\n",
    "@reflection_agent.tool_plain() # dependency context not necessary\n",
    "def get_shipping_status(order_id: str) -> str:\n",
    "    \"\"\" Get the shipping status of an order \"\"\"\n",
    "    shipping_status = shipping_info_db.get(order_id)\n",
    "    if shipping_status is None:\n",
    "        raise ModelRetry(\n",
    "            f\"No shipping information found for order ID {order_id}. \"\n",
    "            f\"make sure the order ID starts with a #: e.g. #{order_id}. \"\n",
    "            \"Self correct this if needed and try again\"\n",
    "        )\n",
    "    return shipping_info_db[order_id]\n",
    "\n",
    "response = \"\"\n",
    "response = reflection_agent.run_sync(\n",
    "    user_prompt=\"what is the status of order 12345\"\n",
    ")\n",
    "\n",
    "\n",
    "response.all_messages()\n",
    "print(\"\\n Response Data:\")\n",
    "print(response.data.model_dump_json(indent=2))\n",
    "\n",
    "\n"
   ]
  },
  {
   "cell_type": "markdown",
   "metadata": {},
   "source": [
    "### Agent Tool Use - Pydantic AI Documentation Examples"
   ]
  },
  {
   "cell_type": "code",
   "execution_count": 49,
   "metadata": {},
   "outputs": [],
   "source": [
    "#A fake db with a customer_name\n",
    "class DatabaseConn:\n",
    "    @classmethod\n",
    "    def customer_name(cls, id: int) -> str | None:\n",
    "        if id == 123:\n",
    "            return 'John'\n",
    "    \n",
    "    def customer_balance(cls, customer_id: int, include_pending: bool) -> int | None:\n",
    "        if customer_id==123:\n",
    "            return 999\n",
    "\n",
    "@dataclass # Simple python data container with basic validation\n",
    "class SupportDependencies:\n",
    "    customer_id: int\n",
    "    include_pending: bool\n",
    "    db: DatabaseConn\n",
    "\n",
<<<<<<< HEAD
    "class SupportResult(BaseModel):\n",
    "    \"\"\"Pydantic model to constrain the structured data returned by agent. \\n\n",
    "    Pydantic can build tje JSON schema that tells the LLM how to return the data \\n\n",
    "    and performs validation to guarantee the data is correct at the end of the run\n",
    "    \"\"\"\n",
=======
    "class SupportResult(BaseModel): # Pydantic's model class\n",
>>>>>>> aaaefa9 (sync)
    "    support_advice: str = Field(description='Advice returned to the customer')\n",
    "    block_card: bool = Field(description=\"Where to block the customer's card\")\n",
    "    risk: int = Field(description='Risk level of the query', ge=0, le=10)\n",
    "\n",
    "### Create the Agent!\n",
    "support_agent = Agent(\n",
    "    'gemini-1.5-flash',\n",
    "    # 'openai:gpt-4o-mini',\n",
    "    deps_type=SupportDependencies,  # the agent dependency required inputs\n",
    "    result_type=SupportResult,      # the structured output of the agent\n",
    "    system_prompt= (\n",
    "        'You are a support agent in our bank, give the customer support '\n",
    "        'and judge the risk level of their query.'\n",
    "        \"Reply using the customer's name.\"\n",
    "    ),\n",
    ")\n",
    "\n",
    "# Add system prompt the support_agent\n",
    "@support_agent.system_prompt\n",
    "async def add_customer_name(ctx: RunContext[SupportDependencies]) -> str:\n",
    "    customer_name = ctx.deps.db.customer_name(id=ctx.deps.customer_id)\n",
    "    return customer_name\n",
    "\n",
    "# Add tools available to te support_agent\n",
    "@support_agent.tool\n",
    "async def customer_balance(ctx: RunContext[SupportDependencies], include_pending: bool) -> str:\n",
    "    \"\"\"Returns the customer's current account balance.\"\"\"\n",
    "    balance = ctx.deps.db.customer_balance(\n",
    "        customer_id=ctx.deps.customer_id,\n",
    "        include_pending=include_pending,\n",
    "    )\n",
    "    return f'${balance:.2f}'\n"
   ]
  },
  {
<<<<<<< HEAD
   "cell_type": "code",
   "execution_count": 54,
   "metadata": {},
   "outputs": [
    {
     "name": "stdout",
     "output_type": "stream",
     "text": [
      "support_advice='Your current balance is $999.00.' block_card=False risk=1\n"
     ]
    }
   ],
   "source": [
    "deps = SupportDependencies(customer_id=123, db=DatabaseConn(), include_pending=True)\n",
    "prompt = 'What is my balance?'\n",
    "\n",
    "result = await support_agent.run(prompt, deps=deps)\n",
    "print(result.data)\n",
    "\n",
    "# result = support_agent.run_sync('I just lost my card!', deps=deps)\n",
    "# print(result.data)\n",
    "# \"\"\"\n",
    "# support_advice=\"I'm sorry to hear that, John. We are temporarily blocking your card to prevent unauthorized transactions.\" block_card=True risk=8\n",
    "# \"\"\"\n"
   ]
  },
  {
=======
>>>>>>> aaaefa9 (sync)
   "cell_type": "markdown",
   "metadata": {},
   "source": [
    "### Tavily Search"
   ]
  },
  {
   "cell_type": "code",
   "execution_count": null,
   "metadata": {},
   "outputs": [],
   "source": [
    "from tavily import TavilyClient, AsyncTavilyClient\n",
    "\n",
    "# Setup the Tavily Client\n",
    "tavily_client = AsyncTavilyClient(api_key=TAVILY_API_KEY)"
   ]
  },
  {
   "cell_type": "code",
   "execution_count": null,
   "metadata": {},
   "outputs": [],
   "source": [
    "# Simple Search\n",
    "response = await tavily_client.search(\"tell me more about scale.ai?\", max_results=3)\n",
    "\n",
    "result = response['results']\n",
    "#print(result)\n",
    "print(json.dumps(result, indent=4))"
   ]
  },
  {
   "cell_type": "code",
   "execution_count": null,
   "metadata": {},
   "outputs": [],
   "source": [
    "# Tavily Responses\n",
    "for result in response['results']:\n",
    "    print(result['title'])\n",
    "    print(result['content'])\n",
    "    print('\\n')"
   ]
  },
  {
   "cell_type": "markdown",
   "metadata": {},
   "source": [
    "### DuckDuckGo Search DDGS"
   ]
  },
  {
   "cell_type": "code",
   "execution_count": null,
   "metadata": {},
   "outputs": [],
   "source": [
    "from duckduckgo_search import DDGS, AsyncDDGS\n",
    "\n",
    "# results = DDGS().text(\"Who is Leo Messi\", max_results=3)\n",
    "# print(json.dumps(results, indent=4))\n",
    "\n",
    "results = await AsyncDDGS().achat('tell me more about scale.ai')\n",
    "print(results)"
   ]
  },
  {
   "cell_type": "markdown",
   "metadata": {},
   "source": [
    "### Setting up the Agent & Tools"
   ]
  },
  {
   "cell_type": "code",
   "execution_count": 4,
   "metadata": {},
   "outputs": [],
   "source": [
    "from __future__ import annotations as _annotations\n",
    "\n",
    "from dataclasses import dataclass\n",
    "from typing import Any # provides advanced type hinting\n",
    "\n",
    "from devtools import debug\n",
    "from httpx import AsyncClient\n",
    "import datetime\n",
    "\n",
    "from pydantic_ai import Agent, ModelRetry, RunContext\n",
    "from pydantic import BaseModel, Field"
   ]
  },
  {
   "cell_type": "code",
   "execution_count": 5,
   "metadata": {},
   "outputs": [],
   "source": [
    "@dataclass\n",
    "class SearchDataclass:\n",
    "    max_results: int\n",
    "    todays_date: str\n",
    "\n",
    "@dataclass\n",
    "class ResearchDependencies:\n",
    "    todays_date: str\n",
    "\n",
    "class ResearchResult(BaseModel):\n",
    "    research_title: str = Field(description='This is a top level Markdown heading that covers the topic of the query and answer prefix it with #')\n",
    "    research_main: str = Field(description='This is a main section that provides answers for the query and research')\n",
    "    research_bullets: str = Field(description='This is a set of bulletpoints that summarize the answers for query')"
   ]
  },
  {
   "cell_type": "code",
   "execution_count": 6,
   "metadata": {},
   "outputs": [],
   "source": [
    "## Make the Pydantic AI Agent\n",
    "search_agent = Agent('openai:gpt-4o-mini',\n",
    "                     deps_type=ResearchDependencies,\n",
    "                     result_type=ResearchResult,\n",
    "                     system_prompt='Your a helpful research assistant, you are an expert in research '\n",
    "                     'If you are given a question you write strong keywords to do 3-5 searches in total '\n",
    "                     '(each with a query_number) and then combine the results' )\n",
    "\n",
    "## Note, the system prompt can be tweaked according the the type of search agent persona you prefer."
   ]
  },
  {
   "cell_type": "code",
   "execution_count": 7,
   "metadata": {},
   "outputs": [],
   "source": [
    "@search_agent.tool #Tavily tool binded to the Pydantic AI search_agent\n",
    "async def get_search(search_data:RunContext[SearchDataclass],query: str, query_number: int) -> dict[str, Any]:\n",
    "    \"\"\"Get the search for a keyword query.\n",
    "\n",
    "    Args:\n",
    "        query: keywords to search.\n",
    "    \"\"\"\n",
    "    print(f\"Search query {query_number}: {query}\")\n",
    "    max_results = search_data.deps.max_results\n",
    "    results = await tavily_client.get_search_context(query=query, max_results=max_results)\n",
    "\n",
    "    return results"
   ]
  },
  {
   "cell_type": "code",
   "execution_count": 8,
   "metadata": {},
   "outputs": [],
   "source": [
    "# Get the current date and convert the date to a string\n",
    "current_date = datetime.date.today()\n",
    "date_string = current_date.strftime(\"%Y-%m-%d\")"
   ]
  },
  {
   "cell_type": "code",
   "execution_count": 14,
   "metadata": {},
   "outputs": [
    {
     "name": "stdout",
     "output_type": "stream",
     "text": [
      "Search query 1: Elon Musk biography\n",
      "Search query 2: Elon Musk early life\n",
      "Search query 3: Elon Musk businesses\n",
      "Search query 4: Elon Musk achievements\n",
      "Search query 5: Elon Musk personal life\n"
     ]
    }
   ],
   "source": [
    "deps = SearchDataclass(max_results=3, todays_date=date_string)\n",
    "prompt = 'can you give me a detailed bio of Elon Musk?'\n",
    "\n",
    "result = await search_agent.run(\n",
    "    prompt, deps=deps\n",
    ")"
   ]
  },
  {
   "cell_type": "code",
   "execution_count": 18,
   "metadata": {},
   "outputs": [
    {
     "name": "stdout",
     "output_type": "stream",
     "text": [
      "###Detailed Biography of Elon Musk\n",
      "Elon Musk, born on June 28, 1971, in Pretoria, South Africa, is a prominent entrepreneur and business magnate known for his influential role in multiple high-tech companies. He was born to a Canadian mother, Maye Musk, and a South African-born British father, Errol Musk. From a young age, Elon displayed a fascination with technology and entrepreneurship, coding a computer game at the age of 12. He moved to the United States to study applied physics and later dropped out of a PhD program at Stanford after just two days to pursue his entrepreneurial interests.\n",
      "\n",
      "Musk's career began with the creation of Zip2, a company he founded with his brother that provided online business directories. His big break came when he co-founded X.com, which eventually became PayPal after a merger. After selling PayPal to eBay for $1.5 billion in 2002, Musk founded SpaceX with the goal of reducing space transportation costs and enabling the colonization of Mars. He also became CEO and product architect of Tesla, Inc., where he has been pivotal in transforming the automobile industry by accelerating the world’s transition to electric vehicles. Other ventures include SolarCity, which focuses on renewable energy solutions, The Boring Company for infrastructure contracts, Neuralink for developing brain-machine interfaces, and xAI, aimed at advancing artificial intelligence safety.\n",
      "\n",
      "Musk is known for his ambitious vision for technology and humanity’s future, consistently pushing the boundaries on topics like space travel, sustainable energy, and artificial intelligence. He has received numerous accolades, including being named Time magazine's Person of the Year in 2021.\n",
      "\n",
      "In his personal life, Musk has been married three times and has ten children. Despite controversies, such as his leadership style and public communications, he remains one of the wealthiest individuals globally, with a wealth that positions him amongst the top billionaires, thanks to the valuation of his companies like Tesla and SpaceX.\n",
      "- Born on June 28, 1971, in Pretoria, South Africa to a Canadian mother and South African father.\n",
      "- Early interest in technology led him to create a video game at age 12.\n",
      "- Founder of Zip2 and X.com, which became PayPal.\n",
      "- Established SpaceX in 2002 and became CEO of Tesla, enhancing electric vehicle production.\n",
      "- Involved in several other companies, including Neuralink, The Boring Company, and xAI.\n",
      "- Time magazine's Person of the Year in 2021.\n",
      "- Has 10 children and has been married three times, with a complex personal life involving public figures like Grimes.\n"
     ]
    }
   ],
   "source": [
    "# print(result.data)\n",
    "print(f\"#{result.data.research_title}\")\n",
    "print(result.data.research_main)\n",
    "print(result.data.research_bullets)"
   ]
  },
  {
   "cell_type": "code",
   "execution_count": 20,
   "metadata": {},
   "outputs": [
    {
     "data": {
      "text/markdown": [
       "##Detailed Biography of Elon Musk\n",
       "\n",
       "Elon Musk, born on June 28, 1971, in Pretoria, South Africa, is a prominent entrepreneur and business magnate known for his influential role in multiple high-tech companies. He was born to a Canadian mother, Maye Musk, and a South African-born British father, Errol Musk. From a young age, Elon displayed a fascination with technology and entrepreneurship, coding a computer game at the age of 12. He moved to the United States to study applied physics and later dropped out of a PhD program at Stanford after just two days to pursue his entrepreneurial interests.\n",
       "\n",
       "Musk's career began with the creation of Zip2, a company he founded with his brother that provided online business directories. His big break came when he co-founded X.com, which eventually became PayPal after a merger. After selling PayPal to eBay for $1.5 billion in 2002, Musk founded SpaceX with the goal of reducing space transportation costs and enabling the colonization of Mars. He also became CEO and product architect of Tesla, Inc., where he has been pivotal in transforming the automobile industry by accelerating the world’s transition to electric vehicles. Other ventures include SolarCity, which focuses on renewable energy solutions, The Boring Company for infrastructure contracts, Neuralink for developing brain-machine interfaces, and xAI, aimed at advancing artificial intelligence safety.\n",
       "\n",
       "Musk is known for his ambitious vision for technology and humanity’s future, consistently pushing the boundaries on topics like space travel, sustainable energy, and artificial intelligence. He has received numerous accolades, including being named Time magazine's Person of the Year in 2021.\n",
       "\n",
       "In his personal life, Musk has been married three times and has ten children. Despite controversies, such as his leadership style and public communications, he remains one of the wealthiest individuals globally, with a wealth that positions him amongst the top billionaires, thanks to the valuation of his companies like Tesla and SpaceX.\n",
       "\n",
       "- Born on June 28, 1971, in Pretoria, South Africa to a Canadian mother and South African father.\n",
       "- Early interest in technology led him to create a video game at age 12.\n",
       "- Founder of Zip2 and X.com, which became PayPal.\n",
       "- Established SpaceX in 2002 and became CEO of Tesla, enhancing electric vehicle production.\n",
       "- Involved in several other companies, including Neuralink, The Boring Company, and xAI.\n",
       "- Time magazine's Person of the Year in 2021.\n",
       "- Has 10 children and has been married three times, with a complex personal life involving public figures like Grimes."
      ],
      "text/plain": [
       "<IPython.core.display.Markdown object>"
      ]
     },
     "execution_count": 20,
     "metadata": {},
     "output_type": "execute_result"
    }
   ],
   "source": [
    "from IPython.display import display, Markdown\n",
    "\n",
    "combined_markdown = \"\\n\\n\".join([result.data.research_title, result.data.research_main, result.data.research_bullets])\n",
    "Markdown(combined_markdown)"
   ]
  },
  {
   "cell_type": "markdown",
   "metadata": {},
   "source": [
    "# Debug it step-by-step"
   ]
  },
  {
   "cell_type": "code",
   "execution_count": 21,
   "metadata": {},
   "outputs": [
    {
     "name": "stdout",
     "output_type": "stream",
     "text": [
      "/var/folders/bg/lmbgsw9x61g9_mv914cpljxm0000gn/T/ipykernel_21792/2382573556.py:1 <module>\n",
      "    result: RunResult(\n",
      "        _all_messages=[\n",
      "            SystemPrompt(\n",
      "                content=(\n",
      "                    'Your a helpful research assistant, you are an expert in research If you are given a question you '\n",
      "                    'write strong keywords to do 3-5 searches in total (each with a query_number) and then combine the'\n",
      "                    ' results'\n",
      "                ),\n",
      "                role='system',\n",
      "            ),\n",
      "            UserPrompt(\n",
      "                content='can you give me a detailed bio of Elon Musk?',\n",
      "                timestamp=datetime.datetime(2024, 12, 12, 7, 55, 25, 204656, tzinfo=datetime.timezone.utc),\n",
      "                role='user',\n",
      "            ),\n",
      "            ModelStructuredResponse(\n",
      "                calls=[\n",
      "                    ToolCall(\n",
      "                        tool_name='get_search',\n",
      "                        args=ArgsJson(\n",
      "                            args_json='{\"query\": \"Elon Musk biography\", \"query_number\": 1}',\n",
      "                        ),\n",
      "                        tool_id='call_9TiUYzXGpHo6tlZVwgy7z0H5',\n",
      "                    ),\n",
      "                    ToolCall(\n",
      "                        tool_name='get_search',\n",
      "                        args=ArgsJson(\n",
      "                            args_json='{\"query\": \"Elon Musk early life\", \"query_number\": 2}',\n",
      "                        ),\n",
      "                        tool_id='call_ThdewnZlRgmeSaafBmoWMiQ7',\n",
      "                    ),\n",
      "                    ToolCall(\n",
      "                        tool_name='get_search',\n",
      "                        args=ArgsJson(\n",
      "                            args_json='{\"query\": \"Elon Musk businesses\", \"query_number\": 3}',\n",
      "                        ),\n",
      "                        tool_id='call_a2Kwmxw0RhitXa86DnF06gvY',\n",
      "                    ),\n",
      "                    ToolCall(\n",
      "                        tool_name='get_search',\n",
      "                        args=ArgsJson(\n",
      "                            args_json='{\"query\": \"Elon Musk achievements\", \"query_number\": 4}',\n",
      "                        ),\n",
      "                        tool_id='call_SSRDoV3fhuvD18mipCygHa92',\n",
      "                    ),\n",
      "                    ToolCall(\n",
      "                        tool_name='get_search',\n",
      "                        args=ArgsJson(\n",
      "                            args_json='{\"query\": \"Elon Musk personal life\", \"query_number\": 5}',\n",
      "                        ),\n",
      "                        tool_id='call_XwWAQXGHj8foEvNBl0tAAi9I',\n",
      "                    ),\n",
      "                ],\n",
      "                timestamp=datetime.datetime(2024, 12, 12, 7, 55, 25, tzinfo=datetime.timezone.utc),\n",
      "                role='model-structured-response',\n",
      "            ),\n",
      "            ToolReturn(\n",
      "                tool_name='get_search',\n",
      "                content=(\n",
      "                    '\"[\\\\\"{\\\\\\\\\\\\\"url\\\\\\\\\\\\\": \\\\\\\\\\\\\"https://en.wikipedia.org/wiki/Elon_Musk_(Isaacson_book)\\\\\\\\\\\\\", \\\\\\\\\\\\\"content\\\\\\\\\\\\'\n",
      "                    '\": \\\\\\\\\\\\\"\\\\\\\\\\\\\\\\\\\\\\\\\\\\\"\\\\\\\\\\\\\\\\nThe Verge critic Elizabeth Lopatto criticized the book and Isaacson, writing '\n",
      "                    'that on the subject of the lack of sourcing for the allegations of Starlink being shut off, that '\n",
      "                    'more interviews could have been held but that \\\\\\\\\\\\\\\\\\\\\\\\\\\\\"Isaacson chose not to\\\\\\\\\\\\\\\\\\\\\\\\\\\\\" and \\\\\\\\\\\\\\\\\\\\\\\\\\\\\"r'\n",
      "                    'olled over\\\\\\\\\\\\\\\\\\\\\\\\\\\\\" on social media when Musk contested, while also stating that Isaacson did not '\n",
      "                    'dig deeper and left out details to \\\\\\\\\\\\\\\\\\\\\\\\\\\\\"keep Musk\\'s myth intact. It debuted at number one on T'\n",
      "                    'he New York Times nonfiction best-seller list for the week ending September 16, 2023.[8]\\\\\\\\\\\\\\\\nAt t'\n",
      "                    'he review aggregator website Book Marks, the book had an overall rating of \\\\\\\\\\\\\\\\\\\\\\\\\\\\\"mixed\\\\\\\\\\\\\\\\\\\\\\\\\\\\\",'\n",
      "                    ' based on 15 book reviews from mainstream literary critics.[9]\\\\\\\\\\\\\\\\nThe New York Times critic Jenn'\n",
      "                    'ifer Szalai wrote, \\\\\\\\\\\\\\\\\\\\\\\\\\\\\"Isaacson [...] is a patient chronicler of obsession; in the case of Mu'\n",
      "                    'sk, he can occasionally seem too patient. While writing that it is \\\\\\\\\\\\\\\\\\\\\\\\\\\\\"strictly a book of rep'\n",
      "                    'ortage\\\\\\\\\\\\\\\\\\\\\\\\\\\\\" and that \\\\\\\\\\\\\\\\\\\\\\\\\\\\\"[Isaacson\\'s] reporting is rigorous and dogged\\\\\\\\\\\\\\\\\\\\\\\\\\\\\", the review'\n",
      "                    'er noted that the book \\\\\\\\\\\\\\\\\\\\\\\\\\\\\"asks all the wrong questions\\\\\\\\\\\\\\\\\\\\\\\\\\\\\".[13]\\\\\\\\\\\\\\\\nJill Lepore of The N'\n",
      "                    'ew Yorker wrote that \\\\\\\\\\\\\\\\\\\\\\\\\\\\\"Isaacson\\'s new biography depicts a man who wields more power than al'\n",
      "                    'most any other person on the planet but seems estranged from humanity itself\\\\\\\\\\\\\\\\\\\\\\\\\\\\\". The book is'\n",
      "                    ' the result of hours of interviews with Musk and his family, friends, colleagues and adversaries.'\n",
      "                    '[3] Isaacson was present when Musk decided to buy Twitter and to run his new AI company; Musk als'\n",
      "                    'o shared messages from the Ukrainian minister Mykhailo Fedorov, and some were included in the boo'\n",
      "                    'k. \\\\\\\\\\\\\\\\\\\\\\\\\\\\\"[4]\\\\\\\\\\\\\\\\nContents[edit]\\\\\\\\\\\\\\\\nIsaacson writes that Musk is \\\\\\\\\\\\\\\\\\\\\\\\\\\\\"addicted to drama\\\\\\\\\\\\\\\\\\\\'\n",
      "                    '\\\\\\\\\".[4]\\\\\\\\\\\\\\\\nAmong the book\\'s revelations is an account that Musk ordered Starlink to disable acce'\n",
      "                    'ss to Ukrainian drones in 2022, during the Russian invasion of Ukraine, thwarting an attack on Ru'\n",
      "                    'ssian warships in Crimea.[5]\\\\\\\\\\\\\"}\\\\\", \\\\\"{\\\\\\\\\\\\\"url\\\\\\\\\\\\\": \\\\\\\\\\\\\"https://www.historytools.org/people/elon'\n",
      "                    '-musk-complete-biography\\\\\\\\\\\\\", \\\\\\\\\\\\\"content\\\\\\\\\\\\\": \\\\\\\\\\\\\"Learn about the life and achievements of Elon '\n",
      "                    'Musk, the co-founder of PayPal, CEO of Tesla and SpaceX, and founder of many other companies. Dis'\n",
      "                    'cover his childhood in South Africa, his entrepreneurial ventures, his marriages and family, and '\n",
      "                    'his controversial takeover of Twitter.\\\\\\\\\\\\\"}\\\\\", \\\\\"{\\\\\\\\\\\\\"url\\\\\\\\\\\\\": \\\\\\\\\\\\\"https://simple.wikipedia.org/w'\n",
      "                    'iki/Elon_Musk\\\\\\\\\\\\\", \\\\\\\\\\\\\"content\\\\\\\\\\\\\": \\\\\\\\\\\\\"In 2022, he became the owner of the social media site Twi'\n",
      "                    'tter after buying it for USD $44 billion.[2]\\\\\\\\\\\\\\\\nMusk is the second-wealthiest person in the worl'\n",
      "                    \"d, according to both the Bloomberg Billionaires Index and Forbes's real-time billionaires list.[3\"\n",
      "                    '][4] These were to start businesses in the internet, renewable energy and outer space.[10] He bec'\n",
      "                    'ame an American citizen in 2002.[11]\\\\\\\\\\\\\\\\nProjects[change | change source]\\\\\\\\\\\\\\\\nAt the end of 2016,'\n",
      "                    ' Musk founded The Boring Company which focuses on tunneling and infrastructure. Musk has Asperger'\n",
      "                    \"'s which is a former type of Autism.[5]\\\\\\\\\\\\\\\\nEarly life and career[change | change source]\\\\\\\\\\\\\\\\nElo\"\n",
      "                    'n Musk was born to a Canadian mother and a South African-born British father in Pretoria, South A'\n",
      "                    'frica on June 28, 1971.[6] Then he moved to California to attempt to get a PhD in applied physics'\n",
      "                    ' at Stanford but he left the program after only two days because he wanted to pursue his entrepre'\n",
      "                    'neurial aspirations. He is also the CEO of Solar City, a company that makes solar panels, and the'\n",
      "                    ' CEO & CTO of SpaceX, an aerospace company.\\\\\\\\\\\\\\\\n\\\\\\\\\\\\\"}\\\\\"]\"'\n",
      "                ),\n",
      "                tool_id='call_9TiUYzXGpHo6tlZVwgy7z0H5',\n",
      "                timestamp=datetime.datetime(2024, 12, 12, 7, 55, 30, 391815, tzinfo=datetime.timezone.utc),\n",
      "                role='tool-return',\n",
      "            ),\n",
      "            ToolReturn(\n",
      "                tool_name='get_search',\n",
      "                content=(\n",
      "                    '\"[\\\\\"{\\\\\\\\\\\\\"url\\\\\\\\\\\\\": \\\\\\\\\\\\\"https://www.shortform.com/blog/elon-musk-early-life/\\\\\\\\\\\\\", \\\\\\\\\\\\\"content\\\\\\\\\\\\\": '\n",
      "                    '\\\\\\\\\\\\\"\\\\\\\\\\\\\\\\u2014\\\\\\\\\\\\\\\\u2014\\\\\\\\\\\\\\\\u2014End of Preview\\\\\\\\\\\\\\\\u2014\\\\\\\\\\\\\\\\u2014\\\\\\\\\\\\\\\\u2014\\\\\\\\\\\\\\\\nHere\\'s what you\\'ll f'\n",
      "                    'ind in our\\\\\\\\\\\\\\\\nfull Elon Musk summary\\\\\\\\\\\\\\\\n:\\\\\\\\\\\\\\\\nObama, China, & the Sino-American Relationship\\\\\\\\\\\\'\n",
      "                    '\\\\nThe Snowden Leak: Blowing the Whistle at the NSA\\\\\\\\\\\\\\\\nWhat Is Darwinian Evolution? Shortform Boo'\n",
      "                    \"ks\\\\\\\\\\\\\\\\nThe World's Best Book Summaries\\\\\\\\\\\\\\\\nMenu\\\\\\\\\\\\\\\\nElon Musk\\\\\\\\\\\\\\\\u2019s Early Life: From Childhoo\"\n",
      "                    'd to College\\\\\\\\\\\\\\\\nThis article is an excerpt from the\\\\\\\\\\\\\\\\nShortform book guide to \\\\\\\\\\\\\\\\\\\\\\\\\\\\\"Elon Mus'\n",
      "                    'k\\\\\\\\\\\\\\\\\\\\\\\\\\\\\"\\\\\\\\\\\\\\\\nby Ashlee Vance. Developing Lifelong Interests\\\\\\\\\\\\\\\\nBut Elon Musk\\\\\\\\\\\\\\\\u2019s early li'\n",
      "                    'fe also had its perks\\\\\\\\\\\\\\\\u2014Musk had the freedom and resources to explore what interested him:\\\\'\n",
      "                    '\\\\\\\\\\\\nVance notes that Musk\\\\\\\\\\\\\\\\u2019s interests are lifelong ones, as we\\\\\\\\\\\\\\\\u2019ll see reflected i'\n",
      "                    'n each of his companies.\\\\\\\\\\\\\\\\n Vance notes that Musk wouldn\\\\\\\\\\\\\\\\u2019t go into great detail about h'\n",
      "                    'is father, but he acknowledged that Errol was a difficult person to be around, inflicted a level '\n",
      "                    'of psychological torture on him, made his life miserable, and dismissed Musk\\\\\\\\\\\\\\\\u2019s dream of m'\n",
      "                    'oving to America.\\\\\\\\\\\\\\\\n Required fields are marked *\\\\\\\\\\\\\\\\nComment *\\\\\\\\\\\\\\\\nName *\\\\\\\\\\\\\\\\nEmail *\\\\\\\\\\\\\\\\nWebs'\n",
      "                    'ite\\\\\\\\\\\\\\\\nSave my name, email, and website in this browser for the next time I comment.\\\\\\\\\\\\\\\\n\\\\\\\\\\\\\"}\\\\\"'\n",
      "                    ', \\\\\"{\\\\\\\\\\\\\"url\\\\\\\\\\\\\": \\\\\\\\\\\\\"https://heightline.com/timeline-of-elon-musks-early-life-career-achievement'\n",
      "                    's-and-personal-life/\\\\\\\\\\\\\", \\\\\\\\\\\\\"content\\\\\\\\\\\\\": \\\\\\\\\\\\\"Elon Musk took his very first breathe on the 28th '\n",
      "                    'day of June 1971. The entrepreneur was given birth to in Pretoria, Transvaal, South Africa, and h'\n",
      "                    'e spent his early years growing up there. Musk was born to Errol Musk and his wife, identified as'\n",
      "                    ' Maye Musk.\\\\\\\\\\\\\"}\\\\\", \\\\\"{\\\\\\\\\\\\\"url\\\\\\\\\\\\\": \\\\\\\\\\\\\"https://press.farm/elon-musks-childhood-a-journey-of-pers'\n",
      "                    'everance/\\\\\\\\\\\\\", \\\\\\\\\\\\\"content\\\\\\\\\\\\\": \\\\\\\\\\\\\"Born in Pretoria, South Africa in 1971 to a South African fat'\n",
      "                    'her and Canadian mother, Musk demonstrated exceptional skills in computer programming from a youn'\n",
      "                    'g age. At the age of 12, he developed a computer game and began selling it, paving the way for hi'\n",
      "                    's future ventures.\\\\\\\\\\\\\"}\\\\\"]\"'\n",
      "                ),\n",
      "                tool_id='call_ThdewnZlRgmeSaafBmoWMiQ7',\n",
      "                timestamp=datetime.datetime(2024, 12, 12, 7, 55, 30, 588101, tzinfo=datetime.timezone.utc),\n",
      "                role='tool-return',\n",
      "            ),\n",
      "            ToolReturn(\n",
      "                tool_name='get_search',\n",
      "                content=(\n",
      "                    '\"[\\\\\"{\\\\\\\\\\\\\"url\\\\\\\\\\\\\": \\\\\\\\\\\\\"https://time.com/6170834/elon-musk-business-timeline-twitter/\\\\\\\\\\\\\", \\\\\\\\\\\\\"cont'\n",
      "                    'ent\\\\\\\\\\\\\": \\\\\\\\\\\\\"A Complete Timeline of Elon Musk\\'s Business Endeavors\\\\\\\\\\\\\\\\nWith Elon Musk close to cl'\n",
      "                    'aiming a new role as owner of Twitter after a winning bid to purchase it for $44 billion this wee'\n",
      "                    'k, the billionaire entrepreneur can add the social media app to a long list of business ventures '\n",
      "                    'he has led, invested in, and supported over his lengthy career. But it has also become a heavy-hi'\n",
      "                    'tter in the space industry with a number of records to its name, including being the first privat'\n",
      "                    'e company to send a craft to the International Space Station and send astronauts to orbit. Musk w'\n",
      "                    'as ousted as CEO in 1996, however, when the board of directors decided to install a more experien'\n",
      "                    'ced leader in his stead.\\\\\\\\\\\\\\\\n1999: X.com\\\\\\\\\\\\\\\\nMusk invested some of his windfall from the Zip2 sal'\n",
      "                    'e into his next venture: X.com, an online bank, launched with three other co-founders. Tesla has '\n",
      "                    'come in for its fair share of controversy, however, from dealing with long production and fulfill'\n",
      "                    'ment delays to safety issues with its vehicles and employee complaints about working conditions a'\n",
      "                    'nd management practices.\\\\\\\\\\\\\\\\n2006: SolarCity\\\\\\\\\\\\\\\\nFounded by his cousins in 2006, SolarCity receiv'\n",
      "                    'ed Musk\\\\\\\\\\\\\\\\u2019s patronage from the offset; he was their primary financial backer. Here\\\\\\\\\\\\\\\\u2019'\n",
      "                    's a timeline of Musk\\\\\\\\\\\\\\\\u2019s most notable business endeavors\\\\\\\\\\\\\\\\u2014both successful and not\\\\\\\\\\\\'\n",
      "                    '\\\\u2014over the past three decades.\\\\\\\\\\\\\\\\n1995: Zip2\\\\\\\\\\\\\\\\nAlong with his brother, Musk founded Zip2, '\n",
      "                    'an online business directory, as an online alternative to the standard paper yellow pages.\\\\\\\\\\\\\"}\\\\\"'\n",
      "                    ', \\\\\"{\\\\\\\\\\\\\"url\\\\\\\\\\\\\": \\\\\\\\\\\\\"https://www.usatoday.com/story/news/politics/elections/2024/11/18/elon-musk'\n",
      "                    '-company-value-doge/76402834007/\\\\\\\\\\\\\", \\\\\\\\\\\\\"content\\\\\\\\\\\\\": \\\\\\\\\\\\\"Musk\\'s business are soaring since bein'\n",
      "                    \"g tapped by Trump. Elon Musk's businesses are soaring in value, except one. After President-elect\"\n",
      "                    \" Donald Trump tapped Elon Musk to join him in his second administration, the tech billionaire's b\"\n",
      "                    'usinesses are booming, with one exception. This year, Musk fundraised for and promoted Trump whil'\n",
      "                    'e overseeing a constellation of six companies. With Musk expected to wield influence in Washingto'\n",
      "                    \"n that could benefit the business, Tesla's market value jumped following Trump's win. Musk founde\"\n",
      "                    'd Neuralink Corp., a neurotechnology company, in 2016. Musk used it to support Trump during his r'\n",
      "                    'eelection campaign this year and promote DOGE last week. In 2023, Musk founded xAI, an artificial'\n",
      "                    ' intelligence company known for its Grok chatbot accessible to X users.\\\\\\\\\\\\\"}\\\\\", \\\\\"{\\\\\\\\\\\\\"url\\\\\\\\\\\\\": \\\\'\n",
      "                    '\\\\\\\\\"https://observer.com/2023/10/elon-musk-companies-key-people/\\\\\\\\\\\\\", \\\\\\\\\\\\\"content\\\\\\\\\\\\\": \\\\\\\\\\\\\"Here is'\n",
      "                    ' a (running) list of every company controlled by Elon Musk, what they do, and the key people who '\n",
      "                    'help Musk run them:\\\\\\\\\\\\\\\\nTesla: electric vehicles, software\\\\\\\\\\\\\\\\nTesla is the only publicly traded '\n",
      "                    'company in Musk\\\\\\\\\\\\\\\\u2019s vast portfolio. The world\\\\\\\\\\\\\\\\u2019s richest man (currently worth $225 b'\n",
      "                    'illion) once said he regularly worked 80 to 100 hours a week\\\\\\\\\\\\\\\\u2014and that was in 2018, well b'\n",
      "                    'efore Tesla (TSLA) and SpaceX expanded into new businesses and Musk added Twitter under his belt.'\n",
      "                    '\\\\\\\\\\\\\\\\n Read More: Neuralink\\\\\\\\\\\\\\\\u2019s Monkey Experiment Raises Questions From Scientists and Tech '\n",
      "                    'Ethicist\\\\\\\\\\\\\\\\nX (formerly Twitter): social media\\\\\\\\\\\\\\\\nMusk loved using Twitter so much that he even'\n",
      "                    'tually bought the company last year and paid a considerable premium. He serves as not only the co'\n",
      "                    'mpany\\\\\\\\\\\\\\\\u2019s CEO, but also its chief technology officer and chief designer, deeply involved in'\n",
      "                    ' every aspect of the design and engineering of SpaceX rockets and satellites. The Boring Company:'\n",
      "                    ' tunneling\\\\\\\\\\\\\\\\nThe Boring Co. is a tunneling company born partly out of Musk\\\\\\\\\\\\\\\\u2019s frustratio'\n",
      "                    'n with the traffic congestion in Los Angeles.\\\\\\\\\\\\\"}\\\\\"]\"'\n",
      "                ),\n",
      "                tool_id='call_a2Kwmxw0RhitXa86DnF06gvY',\n",
      "                timestamp=datetime.datetime(2024, 12, 12, 7, 55, 30, 710960, tzinfo=datetime.timezone.utc),\n",
      "                role='tool-return',\n",
      "            ),\n",
      "            ToolReturn(\n",
      "                tool_name='get_search',\n",
      "                content=(\n",
      "                    '\"[\\\\\"{\\\\\\\\\\\\\"url\\\\\\\\\\\\\": \\\\\\\\\\\\\"https://www.careeraddict.com/elon-musk-accomplishments\\\\\\\\\\\\\", \\\\\\\\\\\\\"content\\\\\\\\\\\\\"'\n",
      "                    ': \\\\\\\\\\\\\"Starting Your Career\\\\\\\\\\\\\\\\nFinding a Job\\\\\\\\\\\\\\\\nWork Life\\\\\\\\\\\\\\\\nSucceeding at Work\\\\\\\\\\\\\\\\nManagement\\\\'\n",
      "                    '\\\\\\\\\\\\nThe 30 Greatest Achievements of Elon Musk\\\\\\\\\\\\\\\\nFrom cofounding PayPal to establishing SpaceX t'\n",
      "                    \"o becoming Tesla's CEO, Elon Musk has an impressive list of achievements.\\\\\\\\\\\\\\\\n After Tesla\\\\\\\\\\\\\\\\u20\"\n",
      "                    '19s first electric car, the Roadster, hit the market in 2008, the company successfully shifted th'\n",
      "                    'e world\\\\\\\\\\\\\\\\u2019s perception on electric cars and has assumed its place as one of the top automot'\n",
      "                    'ive sellers in the world. The mission was also a success for NASA, which had been relying on the '\n",
      "                    '\\\\\\\\\\\\\\\\u00a0Russian Soyuz spacecraft to transport astronauts to the International Space Station sinc'\n",
      "                    'e the retirement of the Space Shuttle program in 2011.\\\\\\\\\\\\\\\\n He ran a speakeasy to pay rent\\\\\\\\\\\\\\\\nAs'\n",
      "                    ' a self-funded college student, Musk had to come up with inventive ways to earn some income, a pr'\n",
      "                    'oblem to which he found an ingenious solution to: rent a 10-bedroom frat house and turn it into a'\n",
      "                    ' club. He was Time magazine\\\\\\\\\\\\\\\\u2019s \\\\\\\\\\\\\\\\u201cPerson of the Year\\\\\\\\\\\\\\\\u201d\\\\\\\\\\\\\\\\nThe billionaire, w'\n",
      "                    'ho has been described as the \\\\\\\\\\\\\\\\\\\\\\\\\\\\\"real life Tony Stark,\\\\\\\\\\\\\\\\\\\\\\\\\\\\\" was named \\\\\\\\\\\\\\\\u201cPerson of t'\n",
      "                    'he Year\\\\\\\\\\\\\\\\u201d by Time in 2021.\\\\\\\\\\\\\"}\\\\\", \\\\\"{\\\\\\\\\\\\\"url\\\\\\\\\\\\\": \\\\\\\\\\\\\"https://en.wikipedia.org/wiki/List_'\n",
      "                    'of_awards_and_honors_received_by_Elon_Musk\\\\\\\\\\\\\", \\\\\\\\\\\\\"content\\\\\\\\\\\\\": \\\\\\\\\\\\\"List of awards and honors re'\n",
      "                    'ceived by Elon Musk Business magnate  and technologist Elon Musk is recognized for his design and'\n",
      "                    ' engineering work on Tesla vehicles and SpaceX rockets and his efforts to combat global warming. '\n",
      "                    'For his renewable energy work and advocacy, he has received several environmentalist awards, incl'\n",
      "                    \"uding the National Wildlife Federation's Connie Award[1] and a Global Green award.[2] In part for\"\n",
      "                    ' his contributions to space travel, Musk  was elected a Fellow of the Royal Society in 2018,[3] w'\n",
      "                    'as listed among the Time 100 Most Influential People in the World in 2010, 2013, 2018 and 2021, a'\n",
      "                    'nd was ranked joint-first on the Forbes list of the \\\\\\\\\\\\\\\\\\\\\\\\\\\\\"Most Innovative Leaders of 2019\\\\\\\\\\\\\\\\\\\\\\\\'\n",
      "                    '\\\\\".[4] On December 13, 2021 Time magazine named him Person of the Year.[5] Awards and honors\\\\\\\\\\\\\"}'\n",
      "                    '\\\\\", \\\\\"{\\\\\\\\\\\\\"url\\\\\\\\\\\\\": \\\\\\\\\\\\\"https://www.cnbc.com/2015/11/13/elon-musks-10-greatest-inventions-changin'\n",
      "                    'g-the-world.html\\\\\\\\\\\\\", \\\\\\\\\\\\\"content\\\\\\\\\\\\\": \\\\\\\\\\\\\"Learn about the prolific inventor\\'s revolutionary idea'\n",
      "                    's, patents, products and companies, from Tesla and SpaceX to Hyperloop and SolarCity. See how he '\n",
      "                    'has transformed industries such as electric cars, aerospace, e-payments and online guides.\\\\\\\\\\\\\"}\\\\\"'\n",
      "                    ']\"'\n",
      "                ),\n",
      "                tool_id='call_SSRDoV3fhuvD18mipCygHa92',\n",
      "                timestamp=datetime.datetime(2024, 12, 12, 7, 55, 30, 463250, tzinfo=datetime.timezone.utc),\n",
      "                role='tool-return',\n",
      "            ),\n",
      "            ToolReturn(\n",
      "                tool_name='get_search',\n",
      "                content=(\n",
      "                    '\"[\\\\\"{\\\\\\\\\\\\\"url\\\\\\\\\\\\\": \\\\\\\\\\\\\"https://www.grunge.com/749750/what-elon-musks-private-life-is-really-like/\\\\'\n",
      "                    '\\\\\\\\\", \\\\\\\\\\\\\"content\\\\\\\\\\\\\": \\\\\\\\\\\\\"Elon Musk may have been shaped by an unsteady home life, but he has him'\n",
      "                    \"self become a father eight times over. Elon Musk and Grimes' unpronounceable baby name Elon Musk \"\n",
      "                    'has been married three times. Elon Musk and Grimes have a second baby in secret The news of the b'\n",
      "                    'irth of baby Exa or \\\\\\\\\\\\\\\\\\\\\\\\\\\\\"Y\\\\\\\\\\\\\\\\\\\\\\\\\\\\\" made Elon Musk a father of seven total children, and accord'\n",
      "                    'ing to Grimes, he wants even more. Even though Elon Musk and Grimes announced a split in 2021, th'\n",
      "                    'e relationship was in no way over. \\\\\\\\\\\\\\\\\\\\\\\\\\\\\"We are semi-separated but still love each other, see e'\n",
      "                    'ach other frequently, and are on great terms,\\\\\\\\\\\\\\\\\\\\\\\\\\\\\" Musk told Page Six. He added that Grimes wa'\n",
      "                    's \\\\\\\\\\\\\\\\\\\\\\\\\\\\\"staying with me now,\\\\\\\\\\\\\\\\\\\\\\\\\\\\\" and that baby X was in an adjacent room.\\\\\\\\\\\\\"}\\\\\", \\\\\"{\\\\\\\\\\\\\"ur'\n",
      "                    'l\\\\\\\\\\\\\": \\\\\\\\\\\\\"https://www.businessinsider.in/Elon-Musk-has-finally-spoken-out-about-his-personal-lif'\n",
      "                    'e-heres-his-complicated-history-of-marriages-divorces-and-dating/articleshow/61666006.cms\\\\\\\\\\\\\", \\\\\\\\'\n",
      "                    '\\\\\"content\\\\\\\\\\\\\": \\\\\\\\\\\\\"Learn about the Tesla and SpaceX CEO\\'s complicated history of relationships, f'\n",
      "                    'rom his two marriages and breakups to his search for a soul mate. Read his candid interview with '\n",
      "                    'Rolling Stone on loneliness and happiness.\\\\\\\\\\\\\"}\\\\\", \\\\\"{\\\\\\\\\\\\\"url\\\\\\\\\\\\\": \\\\\\\\\\\\\"https://starsunfolded.com/'\n",
      "                    'elon-musk/\\\\\\\\\\\\\", \\\\\\\\\\\\\"content\\\\\\\\\\\\\": \\\\\\\\\\\\\"Elon Musk Age, Wife, Girlfriend, Children, Family, Biography'\n",
      "                    \" \\\\\\\\\\\\\\\\u2022 In 2018, Musk's mini-submarine was dismissed considering it a 'PR Stunt' by many inclu\"\n",
      "                    \"ding the diver who saved the 12 boys from the cave in Thailand, Elon's another tweet landed him i\"\n",
      "                    \"n a controversy. \\\\\\\\\\\\\\\\u2022 On 27 October 2022, Elon Musk fired Twitter's Chief Executive Parag Ag\"\n",
      "                    'rawal, Chief Financial Officer Ned Segal, General Counsel Sean Edgett, and Legal Affairs and Poli'\n",
      "                    'cy Chief Vijaya Gadde after Musk officially became the owner of Twitter. \\\\\\\\\\\\\\\\u2022 During a tech '\n",
      "                    'event in the US in October 2024, Elon Musk claimed that his space agency, SpaceX, was \\\\\\\\\\\\\\\\\\\\\\\\\\\\\"for'\n",
      "                    'ced\\\\\\\\\\\\\\\\\\\\\\\\\\\\\" by the US government to conduct an environmental test. Elon Musk said,\\\\\\\\\\\\\"}\\\\\"]\"'\n",
      "                ),\n",
      "                tool_id='call_XwWAQXGHj8foEvNBl0tAAi9I',\n",
      "                timestamp=datetime.datetime(2024, 12, 12, 7, 55, 30, 460804, tzinfo=datetime.timezone.utc),\n",
      "                role='tool-return',\n",
      "            ),\n",
      "            ModelStructuredResponse(\n",
      "                calls=[\n",
      "                    ToolCall(\n",
      "                        tool_name='final_result',\n",
      "                        args=ArgsJson(\n",
      "                            args_json=(\n",
      "                                '{\"research_title\":\"Detailed Biography of Elon Musk\",\"research_main\":\"Elon Musk, born '\n",
      "                                'on June 28, 1971, in Pretoria, South Africa, is a prominent entrepreneur and business'\n",
      "                                ' magnate known for his influential role in multiple high-tech companies. He was born '\n",
      "                                'to a Canadian mother, Maye Musk, and a South African-born British father, Errol Musk.'\n",
      "                                ' From a young age, Elon displayed a fascination with technology and entrepreneurship,'\n",
      "                                ' coding a computer game at the age of 12. He moved to the United States to study appl'\n",
      "                                'ied physics and later dropped out of a PhD program at Stanford after just two days to'\n",
      "                                \" pursue his entrepreneurial interests.\\\\n\\\\nMusk's career began with the creation of Zi\"\n",
      "                                'p2, a company he founded with his brother that provided online business directories. '\n",
      "                                'His big break came when he co-founded X.com, which eventually became PayPal after a m'\n",
      "                                'erger. After selling PayPal to eBay for $1.5 billion in 2002, Musk founded SpaceX wit'\n",
      "                                'h the goal of reducing space transportation costs and enabling the colonization of Ma'\n",
      "                                'rs. He also became CEO and product architect of Tesla, Inc., where he has been pivota'\n",
      "                                'l in transforming the automobile industry by accelerating the world’s transition to e'\n",
      "                                'lectric vehicles. Other ventures include SolarCity, which focuses on renewable energy'\n",
      "                                ' solutions, The Boring Company for infrastructure contracts, Neuralink for developing'\n",
      "                                ' brain-machine interfaces, and xAI, aimed at advancing artificial intelligence safety'\n",
      "                                '.\\\\n\\\\nMusk is known for his ambitious vision for technology and humanity’s future, con'\n",
      "                                'sistently pushing the boundaries on topics like space travel, sustainable energy, and'\n",
      "                                ' artificial intelligence. He has received numerous accolades, including being named T'\n",
      "                                \"ime magazine's Person of the Year in 2021.\\\\n\\\\nIn his personal life, Musk has been mar\"\n",
      "                                'ried three times and has ten children. Despite controversies, such as his leadership '\n",
      "                                'style and public communications, he remains one of the wealthiest individuals globall'\n",
      "                                'y, with a wealth that positions him amongst the top billionaires, thanks to the valua'\n",
      "                                'tion of his companies like Tesla and SpaceX.\",\"research_bullets\":\"- Born on June 28, '\n",
      "                                '1971, in Pretoria, South Africa to a Canadian mother and South African father.\\\\n- Ear'\n",
      "                                'ly interest in technology led him to create a video game at age 12.\\\\n- Founder of Zip'\n",
      "                                '2 and X.com, which became PayPal.\\\\n- Established SpaceX in 2002 and became CEO of Tes'\n",
      "                                'la, enhancing electric vehicle production.\\\\n- Involved in several other companies, in'\n",
      "                                \"cluding Neuralink, The Boring Company, and xAI.\\\\n- Time magazine's Person of the Year\"\n",
      "                                ' in 2021.\\\\n- Has 10 children and has been married three times, with a complex persona'\n",
      "                                'l life involving public figures like Grimes.\"}'\n",
      "                            ),\n",
      "                        ),\n",
      "                        tool_id='call_RTD3I8GuoYJr0wgSyNZtUua0',\n",
      "                    ),\n",
      "                ],\n",
      "                timestamp=datetime.datetime(2024, 12, 12, 7, 55, 31, tzinfo=datetime.timezone.utc),\n",
      "                role='model-structured-response',\n",
      "            ),\n",
      "            ToolReturn(\n",
      "                tool_name='final_result',\n",
      "                content='Final result processed.',\n",
      "                tool_id='call_RTD3I8GuoYJr0wgSyNZtUua0',\n",
      "                timestamp=datetime.datetime(2024, 12, 12, 7, 55, 38, 960004, tzinfo=datetime.timezone.utc),\n",
      "                role='tool-return',\n",
      "            ),\n",
      "        ],\n",
      "        _new_message_index=1,\n",
      "        data=ResearchResult(\n",
      "            research_title='##Detailed Biography of Elon Musk',\n",
      "            research_main=(\n",
      "                'Elon Musk, born on June 28, 1971, in Pretoria, South Africa, is a prominent entrepreneur and business'\n",
      "                ' magnate known for his influential role in multiple high-tech companies. He was born to a Canadian mo'\n",
      "                'ther, Maye Musk, and a South African-born British father, Errol Musk. From a young age, Elon displaye'\n",
      "                'd a fascination with technology and entrepreneurship, coding a computer game at the age of 12. He mov'\n",
      "                'ed to the United States to study applied physics and later dropped out of a PhD program at Stanford a'\n",
      "                'fter just two days to pursue his entrepreneurial interests.\\n'\n",
      "                '\\n'\n",
      "                \"Musk's career began with the creation of Zip2, a company he founded with his brother that provided on\"\n",
      "                'line business directories. His big break came when he co-founded X.com, which eventually became PayPa'\n",
      "                'l after a merger. After selling PayPal to eBay for $1.5 billion in 2002, Musk founded SpaceX with the'\n",
      "                ' goal of reducing space transportation costs and enabling the colonization of Mars. He also became CE'\n",
      "                'O and product architect of Tesla, Inc., where he has been pivotal in transforming the automobile indu'\n",
      "                'stry by accelerating the world’s transition to electric vehicles. Other ventures include SolarCity, w'\n",
      "                'hich focuses on renewable energy solutions, The Boring Company for infrastructure contracts, Neuralin'\n",
      "                'k for developing brain-machine interfaces, and xAI, aimed at advancing artificial intelligence safety'\n",
      "                '.\\n'\n",
      "                '\\n'\n",
      "                'Musk is known for his ambitious vision for technology and humanity’s future, consistently pushing the'\n",
      "                ' boundaries on topics like space travel, sustainable energy, and artificial intelligence. He has rece'\n",
      "                \"ived numerous accolades, including being named Time magazine's Person of the Year in 2021.\\n\"\n",
      "                '\\n'\n",
      "                'In his personal life, Musk has been married three times and has ten children. Despite controversies, '\n",
      "                'such as his leadership style and public communications, he remains one of the wealthiest individuals '\n",
      "                'globally, with a wealth that positions him amongst the top billionaires, thanks to the valuation of h'\n",
      "                'is companies like Tesla and SpaceX.'\n",
      "            ),\n",
      "            research_bullets=(\n",
      "                '- Born on June 28, 1971, in Pretoria, South Africa to a Canadian mother and South African father.\\n'\n",
      "                '- Early interest in technology led him to create a video game at age 12.\\n'\n",
      "                '- Founder of Zip2 and X.com, which became PayPal.\\n'\n",
      "                '- Established SpaceX in 2002 and became CEO of Tesla, enhancing electric vehicle production.\\n'\n",
      "                '- Involved in several other companies, including Neuralink, The Boring Company, and xAI.\\n'\n",
      "                \"- Time magazine's Person of the Year in 2021.\\n\"\n",
      "                '- Has 10 children and has been married three times, with a complex personal life involving public fig'\n",
      "                'ures like Grimes.'\n",
      "            ),\n",
      "        ),\n",
      "        _cost=Cost(\n",
      "            request_tokens=4104,\n",
      "            response_tokens=691,\n",
      "            total_tokens=4795,\n",
      "            details={\n",
      "                'accepted_prediction_tokens': 0,\n",
      "                'audio_tokens': 0,\n",
      "                'reasoning_tokens': 0,\n",
      "                'rejected_prediction_tokens': 0,\n",
      "                'cached_tokens': 0,\n",
      "            },\n",
      "        ),\n",
      "    ) (RunResult)\n"
     ]
    },
    {
     "data": {
      "text/plain": [
       "RunResult(_all_messages=[SystemPrompt(content='Your a helpful research assistant, you are an expert in research If you are given a question you write strong keywords to do 3-5 searches in total (each with a query_number) and then combine the results', role='system'), UserPrompt(content='can you give me a detailed bio of Elon Musk?', timestamp=datetime.datetime(2024, 12, 12, 7, 55, 25, 204656, tzinfo=datetime.timezone.utc), role='user'), ModelStructuredResponse(calls=[ToolCall(tool_name='get_search', args=ArgsJson(args_json='{\"query\": \"Elon Musk biography\", \"query_number\": 1}'), tool_id='call_9TiUYzXGpHo6tlZVwgy7z0H5'), ToolCall(tool_name='get_search', args=ArgsJson(args_json='{\"query\": \"Elon Musk early life\", \"query_number\": 2}'), tool_id='call_ThdewnZlRgmeSaafBmoWMiQ7'), ToolCall(tool_name='get_search', args=ArgsJson(args_json='{\"query\": \"Elon Musk businesses\", \"query_number\": 3}'), tool_id='call_a2Kwmxw0RhitXa86DnF06gvY'), ToolCall(tool_name='get_search', args=ArgsJson(args_json='{\"query\": \"Elon Musk achievements\", \"query_number\": 4}'), tool_id='call_SSRDoV3fhuvD18mipCygHa92'), ToolCall(tool_name='get_search', args=ArgsJson(args_json='{\"query\": \"Elon Musk personal life\", \"query_number\": 5}'), tool_id='call_XwWAQXGHj8foEvNBl0tAAi9I')], timestamp=datetime.datetime(2024, 12, 12, 7, 55, 25, tzinfo=datetime.timezone.utc), role='model-structured-response'), ToolReturn(tool_name='get_search', content='\"[\\\\\"{\\\\\\\\\\\\\"url\\\\\\\\\\\\\": \\\\\\\\\\\\\"https://en.wikipedia.org/wiki/Elon_Musk_(Isaacson_book)\\\\\\\\\\\\\", \\\\\\\\\\\\\"content\\\\\\\\\\\\\": \\\\\\\\\\\\\"\\\\\\\\\\\\\\\\\\\\\\\\\\\\\"\\\\\\\\\\\\\\\\nThe Verge critic Elizabeth Lopatto criticized the book and Isaacson, writing that on the subject of the lack of sourcing for the allegations of Starlink being shut off, that more interviews could have been held but that \\\\\\\\\\\\\\\\\\\\\\\\\\\\\"Isaacson chose not to\\\\\\\\\\\\\\\\\\\\\\\\\\\\\" and \\\\\\\\\\\\\\\\\\\\\\\\\\\\\"rolled over\\\\\\\\\\\\\\\\\\\\\\\\\\\\\" on social media when Musk contested, while also stating that Isaacson did not dig deeper and left out details to \\\\\\\\\\\\\\\\\\\\\\\\\\\\\"keep Musk\\'s myth intact. It debuted at number one on The New York Times nonfiction best-seller list for the week ending September 16, 2023.[8]\\\\\\\\\\\\\\\\nAt the review aggregator website Book Marks, the book had an overall rating of \\\\\\\\\\\\\\\\\\\\\\\\\\\\\"mixed\\\\\\\\\\\\\\\\\\\\\\\\\\\\\", based on 15 book reviews from mainstream literary critics.[9]\\\\\\\\\\\\\\\\nThe New York Times critic Jennifer Szalai wrote, \\\\\\\\\\\\\\\\\\\\\\\\\\\\\"Isaacson [...] is a patient chronicler of obsession; in the case of Musk, he can occasionally seem too patient. While writing that it is \\\\\\\\\\\\\\\\\\\\\\\\\\\\\"strictly a book of reportage\\\\\\\\\\\\\\\\\\\\\\\\\\\\\" and that \\\\\\\\\\\\\\\\\\\\\\\\\\\\\"[Isaacson\\'s] reporting is rigorous and dogged\\\\\\\\\\\\\\\\\\\\\\\\\\\\\", the reviewer noted that the book \\\\\\\\\\\\\\\\\\\\\\\\\\\\\"asks all the wrong questions\\\\\\\\\\\\\\\\\\\\\\\\\\\\\".[13]\\\\\\\\\\\\\\\\nJill Lepore of The New Yorker wrote that \\\\\\\\\\\\\\\\\\\\\\\\\\\\\"Isaacson\\'s new biography depicts a man who wields more power than almost any other person on the planet but seems estranged from humanity itself\\\\\\\\\\\\\\\\\\\\\\\\\\\\\". The book is the result of hours of interviews with Musk and his family, friends, colleagues and adversaries.[3] Isaacson was present when Musk decided to buy Twitter and to run his new AI company; Musk also shared messages from the Ukrainian minister Mykhailo Fedorov, and some were included in the book. \\\\\\\\\\\\\\\\\\\\\\\\\\\\\"[4]\\\\\\\\\\\\\\\\nContents[edit]\\\\\\\\\\\\\\\\nIsaacson writes that Musk is \\\\\\\\\\\\\\\\\\\\\\\\\\\\\"addicted to drama\\\\\\\\\\\\\\\\\\\\\\\\\\\\\".[4]\\\\\\\\\\\\\\\\nAmong the book\\'s revelations is an account that Musk ordered Starlink to disable access to Ukrainian drones in 2022, during the Russian invasion of Ukraine, thwarting an attack on Russian warships in Crimea.[5]\\\\\\\\\\\\\"}\\\\\", \\\\\"{\\\\\\\\\\\\\"url\\\\\\\\\\\\\": \\\\\\\\\\\\\"https://www.historytools.org/people/elon-musk-complete-biography\\\\\\\\\\\\\", \\\\\\\\\\\\\"content\\\\\\\\\\\\\": \\\\\\\\\\\\\"Learn about the life and achievements of Elon Musk, the co-founder of PayPal, CEO of Tesla and SpaceX, and founder of many other companies. Discover his childhood in South Africa, his entrepreneurial ventures, his marriages and family, and his controversial takeover of Twitter.\\\\\\\\\\\\\"}\\\\\", \\\\\"{\\\\\\\\\\\\\"url\\\\\\\\\\\\\": \\\\\\\\\\\\\"https://simple.wikipedia.org/wiki/Elon_Musk\\\\\\\\\\\\\", \\\\\\\\\\\\\"content\\\\\\\\\\\\\": \\\\\\\\\\\\\"In 2022, he became the owner of the social media site Twitter after buying it for USD $44 billion.[2]\\\\\\\\\\\\\\\\nMusk is the second-wealthiest person in the world, according to both the Bloomberg Billionaires Index and Forbes\\'s real-time billionaires list.[3][4] These were to start businesses in the internet, renewable energy and outer space.[10] He became an American citizen in 2002.[11]\\\\\\\\\\\\\\\\nProjects[change | change source]\\\\\\\\\\\\\\\\nAt the end of 2016, Musk founded The Boring Company which focuses on tunneling and infrastructure. Musk has Asperger\\'s which is a former type of Autism.[5]\\\\\\\\\\\\\\\\nEarly life and career[change | change source]\\\\\\\\\\\\\\\\nElon Musk was born to a Canadian mother and a South African-born British father in Pretoria, South Africa on June 28, 1971.[6] Then he moved to California to attempt to get a PhD in applied physics at Stanford but he left the program after only two days because he wanted to pursue his entrepreneurial aspirations. He is also the CEO of Solar City, a company that makes solar panels, and the CEO & CTO of SpaceX, an aerospace company.\\\\\\\\\\\\\\\\n\\\\\\\\\\\\\"}\\\\\"]\"', tool_id='call_9TiUYzXGpHo6tlZVwgy7z0H5', timestamp=datetime.datetime(2024, 12, 12, 7, 55, 30, 391815, tzinfo=datetime.timezone.utc), role='tool-return'), ToolReturn(tool_name='get_search', content='\"[\\\\\"{\\\\\\\\\\\\\"url\\\\\\\\\\\\\": \\\\\\\\\\\\\"https://www.shortform.com/blog/elon-musk-early-life/\\\\\\\\\\\\\", \\\\\\\\\\\\\"content\\\\\\\\\\\\\": \\\\\\\\\\\\\"\\\\\\\\\\\\\\\\u2014\\\\\\\\\\\\\\\\u2014\\\\\\\\\\\\\\\\u2014End of Preview\\\\\\\\\\\\\\\\u2014\\\\\\\\\\\\\\\\u2014\\\\\\\\\\\\\\\\u2014\\\\\\\\\\\\\\\\nHere\\'s what you\\'ll find in our\\\\\\\\\\\\\\\\nfull Elon Musk summary\\\\\\\\\\\\\\\\n:\\\\\\\\\\\\\\\\nObama, China, & the Sino-American Relationship\\\\\\\\\\\\\\\\nThe Snowden Leak: Blowing the Whistle at the NSA\\\\\\\\\\\\\\\\nWhat Is Darwinian Evolution? Shortform Books\\\\\\\\\\\\\\\\nThe World\\'s Best Book Summaries\\\\\\\\\\\\\\\\nMenu\\\\\\\\\\\\\\\\nElon Musk\\\\\\\\\\\\\\\\u2019s Early Life: From Childhood to College\\\\\\\\\\\\\\\\nThis article is an excerpt from the\\\\\\\\\\\\\\\\nShortform book guide to \\\\\\\\\\\\\\\\\\\\\\\\\\\\\"Elon Musk\\\\\\\\\\\\\\\\\\\\\\\\\\\\\"\\\\\\\\\\\\\\\\nby Ashlee Vance. Developing Lifelong Interests\\\\\\\\\\\\\\\\nBut Elon Musk\\\\\\\\\\\\\\\\u2019s early life also had its perks\\\\\\\\\\\\\\\\u2014Musk had the freedom and resources to explore what interested him:\\\\\\\\\\\\\\\\nVance notes that Musk\\\\\\\\\\\\\\\\u2019s interests are lifelong ones, as we\\\\\\\\\\\\\\\\u2019ll see reflected in each of his companies.\\\\\\\\\\\\\\\\n Vance notes that Musk wouldn\\\\\\\\\\\\\\\\u2019t go into great detail about his father, but he acknowledged that Errol was a difficult person to be around, inflicted a level of psychological torture on him, made his life miserable, and dismissed Musk\\\\\\\\\\\\\\\\u2019s dream of moving to America.\\\\\\\\\\\\\\\\n Required fields are marked *\\\\\\\\\\\\\\\\nComment *\\\\\\\\\\\\\\\\nName *\\\\\\\\\\\\\\\\nEmail *\\\\\\\\\\\\\\\\nWebsite\\\\\\\\\\\\\\\\nSave my name, email, and website in this browser for the next time I comment.\\\\\\\\\\\\\\\\n\\\\\\\\\\\\\"}\\\\\", \\\\\"{\\\\\\\\\\\\\"url\\\\\\\\\\\\\": \\\\\\\\\\\\\"https://heightline.com/timeline-of-elon-musks-early-life-career-achievements-and-personal-life/\\\\\\\\\\\\\", \\\\\\\\\\\\\"content\\\\\\\\\\\\\": \\\\\\\\\\\\\"Elon Musk took his very first breathe on the 28th day of June 1971. The entrepreneur was given birth to in Pretoria, Transvaal, South Africa, and he spent his early years growing up there. Musk was born to Errol Musk and his wife, identified as Maye Musk.\\\\\\\\\\\\\"}\\\\\", \\\\\"{\\\\\\\\\\\\\"url\\\\\\\\\\\\\": \\\\\\\\\\\\\"https://press.farm/elon-musks-childhood-a-journey-of-perseverance/\\\\\\\\\\\\\", \\\\\\\\\\\\\"content\\\\\\\\\\\\\": \\\\\\\\\\\\\"Born in Pretoria, South Africa in 1971 to a South African father and Canadian mother, Musk demonstrated exceptional skills in computer programming from a young age. At the age of 12, he developed a computer game and began selling it, paving the way for his future ventures.\\\\\\\\\\\\\"}\\\\\"]\"', tool_id='call_ThdewnZlRgmeSaafBmoWMiQ7', timestamp=datetime.datetime(2024, 12, 12, 7, 55, 30, 588101, tzinfo=datetime.timezone.utc), role='tool-return'), ToolReturn(tool_name='get_search', content='\"[\\\\\"{\\\\\\\\\\\\\"url\\\\\\\\\\\\\": \\\\\\\\\\\\\"https://time.com/6170834/elon-musk-business-timeline-twitter/\\\\\\\\\\\\\", \\\\\\\\\\\\\"content\\\\\\\\\\\\\": \\\\\\\\\\\\\"A Complete Timeline of Elon Musk\\'s Business Endeavors\\\\\\\\\\\\\\\\nWith Elon Musk close to claiming a new role as owner of Twitter after a winning bid to purchase it for $44 billion this week, the billionaire entrepreneur can add the social media app to a long list of business ventures he has led, invested in, and supported over his lengthy career. But it has also become a heavy-hitter in the space industry with a number of records to its name, including being the first private company to send a craft to the International Space Station and send astronauts to orbit. Musk was ousted as CEO in 1996, however, when the board of directors decided to install a more experienced leader in his stead.\\\\\\\\\\\\\\\\n1999: X.com\\\\\\\\\\\\\\\\nMusk invested some of his windfall from the Zip2 sale into his next venture: X.com, an online bank, launched with three other co-founders. Tesla has come in for its fair share of controversy, however, from dealing with long production and fulfillment delays to safety issues with its vehicles and employee complaints about working conditions and management practices.\\\\\\\\\\\\\\\\n2006: SolarCity\\\\\\\\\\\\\\\\nFounded by his cousins in 2006, SolarCity received Musk\\\\\\\\\\\\\\\\u2019s patronage from the offset; he was their primary financial backer. Here\\\\\\\\\\\\\\\\u2019s a timeline of Musk\\\\\\\\\\\\\\\\u2019s most notable business endeavors\\\\\\\\\\\\\\\\u2014both successful and not\\\\\\\\\\\\\\\\u2014over the past three decades.\\\\\\\\\\\\\\\\n1995: Zip2\\\\\\\\\\\\\\\\nAlong with his brother, Musk founded Zip2, an online business directory, as an online alternative to the standard paper yellow pages.\\\\\\\\\\\\\"}\\\\\", \\\\\"{\\\\\\\\\\\\\"url\\\\\\\\\\\\\": \\\\\\\\\\\\\"https://www.usatoday.com/story/news/politics/elections/2024/11/18/elon-musk-company-value-doge/76402834007/\\\\\\\\\\\\\", \\\\\\\\\\\\\"content\\\\\\\\\\\\\": \\\\\\\\\\\\\"Musk\\'s business are soaring since being tapped by Trump. Elon Musk\\'s businesses are soaring in value, except one. After President-elect Donald Trump tapped Elon Musk to join him in his second administration, the tech billionaire\\'s businesses are booming, with one exception. This year, Musk fundraised for and promoted Trump while overseeing a constellation of six companies. With Musk expected to wield influence in Washington that could benefit the business, Tesla\\'s market value jumped following Trump\\'s win. Musk founded Neuralink Corp., a neurotechnology company, in 2016. Musk used it to support Trump during his reelection campaign this year and promote DOGE last week. In 2023, Musk founded xAI, an artificial intelligence company known for its Grok chatbot accessible to X users.\\\\\\\\\\\\\"}\\\\\", \\\\\"{\\\\\\\\\\\\\"url\\\\\\\\\\\\\": \\\\\\\\\\\\\"https://observer.com/2023/10/elon-musk-companies-key-people/\\\\\\\\\\\\\", \\\\\\\\\\\\\"content\\\\\\\\\\\\\": \\\\\\\\\\\\\"Here is a (running) list of every company controlled by Elon Musk, what they do, and the key people who help Musk run them:\\\\\\\\\\\\\\\\nTesla: electric vehicles, software\\\\\\\\\\\\\\\\nTesla is the only publicly traded company in Musk\\\\\\\\\\\\\\\\u2019s vast portfolio. The world\\\\\\\\\\\\\\\\u2019s richest man (currently worth $225 billion) once said he regularly worked 80 to 100 hours a week\\\\\\\\\\\\\\\\u2014and that was in 2018, well before Tesla (TSLA) and SpaceX expanded into new businesses and Musk added Twitter under his belt.\\\\\\\\\\\\\\\\n Read More: Neuralink\\\\\\\\\\\\\\\\u2019s Monkey Experiment Raises Questions From Scientists and Tech Ethicist\\\\\\\\\\\\\\\\nX (formerly Twitter): social media\\\\\\\\\\\\\\\\nMusk loved using Twitter so much that he eventually bought the company last year and paid a considerable premium. He serves as not only the company\\\\\\\\\\\\\\\\u2019s CEO, but also its chief technology officer and chief designer, deeply involved in every aspect of the design and engineering of SpaceX rockets and satellites. The Boring Company: tunneling\\\\\\\\\\\\\\\\nThe Boring Co. is a tunneling company born partly out of Musk\\\\\\\\\\\\\\\\u2019s frustration with the traffic congestion in Los Angeles.\\\\\\\\\\\\\"}\\\\\"]\"', tool_id='call_a2Kwmxw0RhitXa86DnF06gvY', timestamp=datetime.datetime(2024, 12, 12, 7, 55, 30, 710960, tzinfo=datetime.timezone.utc), role='tool-return'), ToolReturn(tool_name='get_search', content='\"[\\\\\"{\\\\\\\\\\\\\"url\\\\\\\\\\\\\": \\\\\\\\\\\\\"https://www.careeraddict.com/elon-musk-accomplishments\\\\\\\\\\\\\", \\\\\\\\\\\\\"content\\\\\\\\\\\\\": \\\\\\\\\\\\\"Starting Your Career\\\\\\\\\\\\\\\\nFinding a Job\\\\\\\\\\\\\\\\nWork Life\\\\\\\\\\\\\\\\nSucceeding at Work\\\\\\\\\\\\\\\\nManagement\\\\\\\\\\\\\\\\nThe 30 Greatest Achievements of Elon Musk\\\\\\\\\\\\\\\\nFrom cofounding PayPal to establishing SpaceX to becoming Tesla\\'s CEO, Elon Musk has an impressive list of achievements.\\\\\\\\\\\\\\\\n After Tesla\\\\\\\\\\\\\\\\u2019s first electric car, the Roadster, hit the market in 2008, the company successfully shifted the world\\\\\\\\\\\\\\\\u2019s perception on electric cars and has assumed its place as one of the top automotive sellers in the world. The mission was also a success for NASA, which had been relying on the \\\\\\\\\\\\\\\\u00a0Russian Soyuz spacecraft to transport astronauts to the International Space Station since the retirement of the Space Shuttle program in 2011.\\\\\\\\\\\\\\\\n He ran a speakeasy to pay rent\\\\\\\\\\\\\\\\nAs a self-funded college student, Musk had to come up with inventive ways to earn some income, a problem to which he found an ingenious solution to: rent a 10-bedroom frat house and turn it into a club. He was Time magazine\\\\\\\\\\\\\\\\u2019s \\\\\\\\\\\\\\\\u201cPerson of the Year\\\\\\\\\\\\\\\\u201d\\\\\\\\\\\\\\\\nThe billionaire, who has been described as the \\\\\\\\\\\\\\\\\\\\\\\\\\\\\"real life Tony Stark,\\\\\\\\\\\\\\\\\\\\\\\\\\\\\" was named \\\\\\\\\\\\\\\\u201cPerson of the Year\\\\\\\\\\\\\\\\u201d by Time in 2021.\\\\\\\\\\\\\"}\\\\\", \\\\\"{\\\\\\\\\\\\\"url\\\\\\\\\\\\\": \\\\\\\\\\\\\"https://en.wikipedia.org/wiki/List_of_awards_and_honors_received_by_Elon_Musk\\\\\\\\\\\\\", \\\\\\\\\\\\\"content\\\\\\\\\\\\\": \\\\\\\\\\\\\"List of awards and honors received by Elon Musk Business magnate  and technologist Elon Musk is recognized for his design and engineering work on Tesla vehicles and SpaceX rockets and his efforts to combat global warming. For his renewable energy work and advocacy, he has received several environmentalist awards, including the National Wildlife Federation\\'s Connie Award[1] and a Global Green award.[2] In part for his contributions to space travel, Musk  was elected a Fellow of the Royal Society in 2018,[3] was listed among the Time 100 Most Influential People in the World in 2010, 2013, 2018 and 2021, and was ranked joint-first on the Forbes list of the \\\\\\\\\\\\\\\\\\\\\\\\\\\\\"Most Innovative Leaders of 2019\\\\\\\\\\\\\\\\\\\\\\\\\\\\\".[4] On December 13, 2021 Time magazine named him Person of the Year.[5] Awards and honors\\\\\\\\\\\\\"}\\\\\", \\\\\"{\\\\\\\\\\\\\"url\\\\\\\\\\\\\": \\\\\\\\\\\\\"https://www.cnbc.com/2015/11/13/elon-musks-10-greatest-inventions-changing-the-world.html\\\\\\\\\\\\\", \\\\\\\\\\\\\"content\\\\\\\\\\\\\": \\\\\\\\\\\\\"Learn about the prolific inventor\\'s revolutionary ideas, patents, products and companies, from Tesla and SpaceX to Hyperloop and SolarCity. See how he has transformed industries such as electric cars, aerospace, e-payments and online guides.\\\\\\\\\\\\\"}\\\\\"]\"', tool_id='call_SSRDoV3fhuvD18mipCygHa92', timestamp=datetime.datetime(2024, 12, 12, 7, 55, 30, 463250, tzinfo=datetime.timezone.utc), role='tool-return'), ToolReturn(tool_name='get_search', content='\"[\\\\\"{\\\\\\\\\\\\\"url\\\\\\\\\\\\\": \\\\\\\\\\\\\"https://www.grunge.com/749750/what-elon-musks-private-life-is-really-like/\\\\\\\\\\\\\", \\\\\\\\\\\\\"content\\\\\\\\\\\\\": \\\\\\\\\\\\\"Elon Musk may have been shaped by an unsteady home life, but he has himself become a father eight times over. Elon Musk and Grimes\\' unpronounceable baby name Elon Musk has been married three times. Elon Musk and Grimes have a second baby in secret The news of the birth of baby Exa or \\\\\\\\\\\\\\\\\\\\\\\\\\\\\"Y\\\\\\\\\\\\\\\\\\\\\\\\\\\\\" made Elon Musk a father of seven total children, and according to Grimes, he wants even more. Even though Elon Musk and Grimes announced a split in 2021, the relationship was in no way over. \\\\\\\\\\\\\\\\\\\\\\\\\\\\\"We are semi-separated but still love each other, see each other frequently, and are on great terms,\\\\\\\\\\\\\\\\\\\\\\\\\\\\\" Musk told Page Six. He added that Grimes was \\\\\\\\\\\\\\\\\\\\\\\\\\\\\"staying with me now,\\\\\\\\\\\\\\\\\\\\\\\\\\\\\" and that baby X was in an adjacent room.\\\\\\\\\\\\\"}\\\\\", \\\\\"{\\\\\\\\\\\\\"url\\\\\\\\\\\\\": \\\\\\\\\\\\\"https://www.businessinsider.in/Elon-Musk-has-finally-spoken-out-about-his-personal-life-heres-his-complicated-history-of-marriages-divorces-and-dating/articleshow/61666006.cms\\\\\\\\\\\\\", \\\\\\\\\\\\\"content\\\\\\\\\\\\\": \\\\\\\\\\\\\"Learn about the Tesla and SpaceX CEO\\'s complicated history of relationships, from his two marriages and breakups to his search for a soul mate. Read his candid interview with Rolling Stone on loneliness and happiness.\\\\\\\\\\\\\"}\\\\\", \\\\\"{\\\\\\\\\\\\\"url\\\\\\\\\\\\\": \\\\\\\\\\\\\"https://starsunfolded.com/elon-musk/\\\\\\\\\\\\\", \\\\\\\\\\\\\"content\\\\\\\\\\\\\": \\\\\\\\\\\\\"Elon Musk Age, Wife, Girlfriend, Children, Family, Biography \\\\\\\\\\\\\\\\u2022 In 2018, Musk\\'s mini-submarine was dismissed considering it a \\'PR Stunt\\' by many including the diver who saved the 12 boys from the cave in Thailand, Elon\\'s another tweet landed him in a controversy. \\\\\\\\\\\\\\\\u2022 On 27 October 2022, Elon Musk fired Twitter\\'s Chief Executive Parag Agrawal, Chief Financial Officer Ned Segal, General Counsel Sean Edgett, and Legal Affairs and Policy Chief Vijaya Gadde after Musk officially became the owner of Twitter. \\\\\\\\\\\\\\\\u2022 During a tech event in the US in October 2024, Elon Musk claimed that his space agency, SpaceX, was \\\\\\\\\\\\\\\\\\\\\\\\\\\\\"forced\\\\\\\\\\\\\\\\\\\\\\\\\\\\\" by the US government to conduct an environmental test. Elon Musk said,\\\\\\\\\\\\\"}\\\\\"]\"', tool_id='call_XwWAQXGHj8foEvNBl0tAAi9I', timestamp=datetime.datetime(2024, 12, 12, 7, 55, 30, 460804, tzinfo=datetime.timezone.utc), role='tool-return'), ModelStructuredResponse(calls=[ToolCall(tool_name='final_result', args=ArgsJson(args_json='{\"research_title\":\"Detailed Biography of Elon Musk\",\"research_main\":\"Elon Musk, born on June 28, 1971, in Pretoria, South Africa, is a prominent entrepreneur and business magnate known for his influential role in multiple high-tech companies. He was born to a Canadian mother, Maye Musk, and a South African-born British father, Errol Musk. From a young age, Elon displayed a fascination with technology and entrepreneurship, coding a computer game at the age of 12. He moved to the United States to study applied physics and later dropped out of a PhD program at Stanford after just two days to pursue his entrepreneurial interests.\\\\n\\\\nMusk\\'s career began with the creation of Zip2, a company he founded with his brother that provided online business directories. His big break came when he co-founded X.com, which eventually became PayPal after a merger. After selling PayPal to eBay for $1.5 billion in 2002, Musk founded SpaceX with the goal of reducing space transportation costs and enabling the colonization of Mars. He also became CEO and product architect of Tesla, Inc., where he has been pivotal in transforming the automobile industry by accelerating the world’s transition to electric vehicles. Other ventures include SolarCity, which focuses on renewable energy solutions, The Boring Company for infrastructure contracts, Neuralink for developing brain-machine interfaces, and xAI, aimed at advancing artificial intelligence safety.\\\\n\\\\nMusk is known for his ambitious vision for technology and humanity’s future, consistently pushing the boundaries on topics like space travel, sustainable energy, and artificial intelligence. He has received numerous accolades, including being named Time magazine\\'s Person of the Year in 2021.\\\\n\\\\nIn his personal life, Musk has been married three times and has ten children. Despite controversies, such as his leadership style and public communications, he remains one of the wealthiest individuals globally, with a wealth that positions him amongst the top billionaires, thanks to the valuation of his companies like Tesla and SpaceX.\",\"research_bullets\":\"- Born on June 28, 1971, in Pretoria, South Africa to a Canadian mother and South African father.\\\\n- Early interest in technology led him to create a video game at age 12.\\\\n- Founder of Zip2 and X.com, which became PayPal.\\\\n- Established SpaceX in 2002 and became CEO of Tesla, enhancing electric vehicle production.\\\\n- Involved in several other companies, including Neuralink, The Boring Company, and xAI.\\\\n- Time magazine\\'s Person of the Year in 2021.\\\\n- Has 10 children and has been married three times, with a complex personal life involving public figures like Grimes.\"}'), tool_id='call_RTD3I8GuoYJr0wgSyNZtUua0')], timestamp=datetime.datetime(2024, 12, 12, 7, 55, 31, tzinfo=datetime.timezone.utc), role='model-structured-response'), ToolReturn(tool_name='final_result', content='Final result processed.', tool_id='call_RTD3I8GuoYJr0wgSyNZtUua0', timestamp=datetime.datetime(2024, 12, 12, 7, 55, 38, 960004, tzinfo=datetime.timezone.utc), role='tool-return')], _new_message_index=1, data=ResearchResult(research_title='##Detailed Biography of Elon Musk', research_main=\"Elon Musk, born on June 28, 1971, in Pretoria, South Africa, is a prominent entrepreneur and business magnate known for his influential role in multiple high-tech companies. He was born to a Canadian mother, Maye Musk, and a South African-born British father, Errol Musk. From a young age, Elon displayed a fascination with technology and entrepreneurship, coding a computer game at the age of 12. He moved to the United States to study applied physics and later dropped out of a PhD program at Stanford after just two days to pursue his entrepreneurial interests.\\n\\nMusk's career began with the creation of Zip2, a company he founded with his brother that provided online business directories. His big break came when he co-founded X.com, which eventually became PayPal after a merger. After selling PayPal to eBay for $1.5 billion in 2002, Musk founded SpaceX with the goal of reducing space transportation costs and enabling the colonization of Mars. He also became CEO and product architect of Tesla, Inc., where he has been pivotal in transforming the automobile industry by accelerating the world’s transition to electric vehicles. Other ventures include SolarCity, which focuses on renewable energy solutions, The Boring Company for infrastructure contracts, Neuralink for developing brain-machine interfaces, and xAI, aimed at advancing artificial intelligence safety.\\n\\nMusk is known for his ambitious vision for technology and humanity’s future, consistently pushing the boundaries on topics like space travel, sustainable energy, and artificial intelligence. He has received numerous accolades, including being named Time magazine's Person of the Year in 2021.\\n\\nIn his personal life, Musk has been married three times and has ten children. Despite controversies, such as his leadership style and public communications, he remains one of the wealthiest individuals globally, with a wealth that positions him amongst the top billionaires, thanks to the valuation of his companies like Tesla and SpaceX.\", research_bullets=\"- Born on June 28, 1971, in Pretoria, South Africa to a Canadian mother and South African father.\\n- Early interest in technology led him to create a video game at age 12.\\n- Founder of Zip2 and X.com, which became PayPal.\\n- Established SpaceX in 2002 and became CEO of Tesla, enhancing electric vehicle production.\\n- Involved in several other companies, including Neuralink, The Boring Company, and xAI.\\n- Time magazine's Person of the Year in 2021.\\n- Has 10 children and has been married three times, with a complex personal life involving public figures like Grimes.\"), _cost=Cost(request_tokens=4104, response_tokens=691, total_tokens=4795, details={'accepted_prediction_tokens': 0, 'audio_tokens': 0, 'reasoning_tokens': 0, 'rejected_prediction_tokens': 0, 'cached_tokens': 0}))"
      ]
     },
     "execution_count": 21,
     "metadata": {},
     "output_type": "execute_result"
    }
   ],
   "source": [
    "debug(result)"
   ]
  },
  {
   "cell_type": "markdown",
   "metadata": {},
   "source": [
    "# One more Run"
   ]
  },
  {
   "cell_type": "code",
   "execution_count": 22,
   "metadata": {},
   "outputs": [
    {
     "name": "stdout",
     "output_type": "stream",
     "text": [
      "Search query 1: latest AI news\n",
      "Search query 2: artificial intelligence news updates October 2023\n",
      "Search query 3: AI breakthroughs news\n",
      "Search query 4: AI technology news recent\n",
      "Search query 5: AI innovations 2023\n"
     ]
    }
   ],
   "source": [
    "result = await search_agent.run(\n",
    "    'What is the latest AI News?', deps=deps\n",
    ")"
   ]
  },
  {
   "cell_type": "code",
   "execution_count": 23,
   "metadata": {},
   "outputs": [
    {
     "name": "stdout",
     "output_type": "stream",
     "text": [
      "research_title='Latest AI News Overview – October 2023' research_main=\"The AI landscape continues to evolve rapidly as of October 2023, with various advancements and news highlighting the sector's dynamic nature. Here are some of the significant developments:\\n\\n1. **Google's Gemini Technology**: Google has launched advanced features of its Gemini AI, offering exclusive access to select users and subscribers at premium levels. This technology aims to enhance productivity through advanced AI capabilities and is still in the rollout phase.\\n   \\n2. **AI's Contribution Towards Sustainability**: Various organizations are exploring the use of AI to mitigate climate impact by improving energy efficiency in manufacturing.\\n   \\n3. **Regulatory Oversight**: As AI technologies advance, governments are actively considering regulations to ensure ethical use, aiming to tackle issues like misinformation and privacy concerns.\\n   \\n4. **Recent Breakthroughs in AI Applications**: AI is increasingly playing a role in life sciences, particularly in diagnostics (like Alzheimer's research), showcasing its transformative potential across industries.\\n   \\n5. **Research Advances**: Studies continuing to explore AI's basis in cognitive functions of the mammalian brain suggest promising directions for both AI modeling and neuroscience.\" research_bullets=\"- Google released advanced features of its Gemini AI technology with a subscription model.\\n- AI applications are increasingly focused on improving energy efficiency and sustainability.\\n- Regulatory measures are being discussed to oversee AI deployment and address ethical issues.\\n- Significant breakthroughs in AI's role in healthcare, particularly in diagnostics and drug discovery.\\n- Ongoing research efforts are linking AI learning processes to brain activity, enhancing AI modeling methods.\"\n"
     ]
    }
   ],
   "source": [
    "print(result.data)"
   ]
  },
  {
   "cell_type": "code",
   "execution_count": 24,
   "metadata": {},
   "outputs": [],
   "source": [
    "# Add in the date\n",
    "@search_agent.system_prompt\n",
    "async def add_current_date(ctx: RunContext[ResearchDependencies]) -> str:\n",
    "    todays_date = ctx.deps.todays_date\n",
    "    system_prompt=f'Your a helpful research assistant, you are an expert in research \\\n",
    "                If you are given a question you write strong keywords to do 3-5 searches in total \\\n",
    "                (each with a query_number) and then combine the results \\\n",
    "                if you need todays date it is {todays_date}'\n",
    "    return system_prompt"
   ]
  },
  {
   "cell_type": "code",
   "execution_count": 25,
   "metadata": {},
   "outputs": [
    {
     "name": "stdout",
     "output_type": "stream",
     "text": [
      "Search query 1: AI news December 2024\n",
      "Search query 2: latest AI technology announcements December 2024\n",
      "Search query 3: artificial intelligence news December 2024\n",
      "Search query 4: AI industry updates December 2024\n",
      "Search query 5: AI breakthroughs news December 2024\n"
     ]
    }
   ],
   "source": [
    "result = await search_agent.run(\n",
    "    'What are the major AI News announcements in the last few days?', deps=deps\n",
    ")"
   ]
  },
  {
   "cell_type": "code",
   "execution_count": 27,
   "metadata": {},
   "outputs": [
    {
     "name": "stdout",
     "output_type": "stream",
     "text": [
      "# Latest AI News Announcements (December 2024)\n",
      "In the last few days, several significant announcements in the AI sector have emerged, including major technological breakthroughs and updates on AI-driven research.\n",
      "\n",
      "1. **IBM's Optics Breakthrough**: On December 9, 2024, IBM revealed advancements in optics technology that promise to enhance data center capabilities for training generative AI models. This includes the development of co-packaged optics (CPO) allowing for high-speed data transmission, aimed at supporting the increasing demands of generative AI processing power. [More details here](https://newsroom.ibm.com/2024-12-09-ibm-brings-the-speed-of-light-to-the-generative-ai-era-with-optics-breakthrough).\n",
      "\n",
      "2. **Google's Next-Gen AI Launch**: Google has started rolling out its latest AI technology, initially accessible to select test groups and paying subscribers of Gemini Advanced as of December 11, 2024. This service offers advanced AI capabilities tailored for potential business applications. [Read more](https://www.courant.com/2024/12/11/google-next-generation-ai-technology/).\n",
      "\n",
      "3. **Trends and Research Announcements**: December trends in AI were highlighted in various reports, including notable developments in test-time training and the impact of model components known as \"super weights,\" which are crucial for optimizing large language models (LLMs) performance. [Find insights here](https://www.zeta-alpha.com/post/trends-in-ai-december-2024).\n",
      "\n",
      "4. **New AI Standards Released**: Anthropic announced the Model Context Protocol (MCP), aimed at improving AI interactions with data sources, enhancing the performance of AI assistants. This open-source standard sets a benchmark for better integration of data in AI responses.\n",
      "\n",
      "5. **AI in Scientific Research**: The integration of AI into various scientific fields is accelerating innovative solutions to complex challenges like climate change, showcasing the capabilities of agentic AI in interdisciplinary research. This is part of ongoing trends expected to dominate AI discussions in 2024. [Explore further](https://aimagazine.com/articles/top-10-ai-trends-of-2024). \n",
      "\n",
      "These updates emphasize the rapid advancements and growing influence of AI technologies across industries and research.\n",
      "- IBM unveiled a breakthrough in optics technology for AI data centers on December 9, 2024.\n",
      "- Google launched next-gen AI capabilities targeting specific user groups on December 11, 2024.\n",
      "- Major AI trends for December highlighted innovations like test-time training and the significance of 'super weights' in model optimization.\n",
      "- Anthropic released the Model Context Protocol to enhance AI data interactions.\n",
      "- AI's role in interdisciplinary research is expected to grow in 2024, addressing complex global issues.\n"
     ]
    }
   ],
   "source": [
    "print(f\"# {result.data.research_title}\")\n",
    "print(result.data.research_main)\n",
    "print(result.data.research_bullets)\n"
   ]
  },
  {
   "cell_type": "code",
   "execution_count": 30,
   "metadata": {},
   "outputs": [
    {
     "data": {
      "text/markdown": [
       "Latest AI News Announcements (December 2024)\n",
       "\n",
       "In the last few days, several significant announcements in the AI sector have emerged, including major technological breakthroughs and updates on AI-driven research.\n",
       "\n",
       "1. **IBM's Optics Breakthrough**: On December 9, 2024, IBM revealed advancements in optics technology that promise to enhance data center capabilities for training generative AI models. This includes the development of co-packaged optics (CPO) allowing for high-speed data transmission, aimed at supporting the increasing demands of generative AI processing power. [More details here](https://newsroom.ibm.com/2024-12-09-ibm-brings-the-speed-of-light-to-the-generative-ai-era-with-optics-breakthrough).\n",
       "\n",
       "2. **Google's Next-Gen AI Launch**: Google has started rolling out its latest AI technology, initially accessible to select test groups and paying subscribers of Gemini Advanced as of December 11, 2024. This service offers advanced AI capabilities tailored for potential business applications. [Read more](https://www.courant.com/2024/12/11/google-next-generation-ai-technology/).\n",
       "\n",
       "3. **Trends and Research Announcements**: December trends in AI were highlighted in various reports, including notable developments in test-time training and the impact of model components known as \"super weights,\" which are crucial for optimizing large language models (LLMs) performance. [Find insights here](https://www.zeta-alpha.com/post/trends-in-ai-december-2024).\n",
       "\n",
       "4. **New AI Standards Released**: Anthropic announced the Model Context Protocol (MCP), aimed at improving AI interactions with data sources, enhancing the performance of AI assistants. This open-source standard sets a benchmark for better integration of data in AI responses.\n",
       "\n",
       "5. **AI in Scientific Research**: The integration of AI into various scientific fields is accelerating innovative solutions to complex challenges like climate change, showcasing the capabilities of agentic AI in interdisciplinary research. This is part of ongoing trends expected to dominate AI discussions in 2024. [Explore further](https://aimagazine.com/articles/top-10-ai-trends-of-2024). \n",
       "\n",
       "These updates emphasize the rapid advancements and growing influence of AI technologies across industries and research.\n",
       "\n",
       "- IBM unveiled a breakthrough in optics technology for AI data centers on December 9, 2024.\n",
       "- Google launched next-gen AI capabilities targeting specific user groups on December 11, 2024.\n",
       "- Major AI trends for December highlighted innovations like test-time training and the significance of 'super weights' in model optimization.\n",
       "- Anthropic released the Model Context Protocol to enhance AI data interactions.\n",
       "- AI's role in interdisciplinary research is expected to grow in 2024, addressing complex global issues."
      ],
      "text/plain": [
       "<IPython.core.display.Markdown object>"
      ]
     },
     "execution_count": 30,
     "metadata": {},
     "output_type": "execute_result"
    }
   ],
   "source": [
    "combined_markdown = \"\\n\\n\".join([result.data.research_title, result.data.research_main, result.data.research_bullets])\n",
    "\n",
    "Markdown(combined_markdown)"
   ]
  }
 ],
 "metadata": {
  "kernelspec": {
   "display_name": ".venv",
   "language": "python",
   "name": "python3"
  },
  "language_info": {
   "codemirror_mode": {
    "name": "ipython",
    "version": 3
   },
   "file_extension": ".py",
   "mimetype": "text/x-python",
   "name": "python",
   "nbconvert_exporter": "python",
   "pygments_lexer": "ipython3",
   "version": "3.11.11"
  }
 },
 "nbformat": 4,
 "nbformat_minor": 2
}
